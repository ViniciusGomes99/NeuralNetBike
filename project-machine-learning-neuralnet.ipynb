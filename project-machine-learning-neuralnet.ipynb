{
 "cells": [
  {
   "cell_type": "markdown",
   "id": "6fce3cf4",
   "metadata": {
    "id": "M27qF7CTrBqc",
    "papermill": {
     "duration": 0.052494,
     "end_time": "2022-03-30T18:05:45.884203",
     "exception": false,
     "start_time": "2022-03-30T18:05:45.831709",
     "status": "completed"
    },
    "tags": []
   },
   "source": [
    "# Machine Learning - Neural Net"
   ]
  },
  {
   "cell_type": "markdown",
   "id": "1b7bb90d",
   "metadata": {
    "id": "xNl52nl3qiyL",
    "papermill": {
     "duration": 0.055761,
     "end_time": "2022-03-30T18:05:45.993362",
     "exception": false,
     "start_time": "2022-03-30T18:05:45.937601",
     "status": "completed"
    },
    "tags": []
   },
   "source": [
    "Nesse projeto de Machine Learning, estaremos usando uma rede neural para criarmos um modelo de regressão que irá prever a quantidade de bicicletas alugadas com base na nossa base de dados que contém dados diários de aluguel de bicicletas durante o período de 2 anos. \n",
    "Na nossa base de dados temos dados de temperatura, umidade do ar, velocidade do vento como variáveis quantitativas.\n",
    "Como variáveis qualitativas, temos a época do ano, mês, dia da semana, feriados, dias úteis e a situação do clima.\n",
    "Iremos então realizar todos os passos clássicos referentes a criação de modelo de Machine Learning a seguir.\n",
    "\n",
    "- Referência da base de dados: \n",
    "    - This Hadi Fanaee-T\n",
    "    - Laboratory of Artificial Intelligence and Decision Support (LIAAD), University of Porto INESC Porto, Campus da FEUP Rua Dr. Roberto Frias, 378 4200 - 465 Porto, Portugal\n"
   ]
  },
  {
   "cell_type": "markdown",
   "id": "2a7be151",
   "metadata": {
    "id": "zKmFmyaGunc7",
    "papermill": {
     "duration": 0.050731,
     "end_time": "2022-03-30T18:05:46.096514",
     "exception": false,
     "start_time": "2022-03-30T18:05:46.045783",
     "status": "completed"
    },
    "tags": []
   },
   "source": [
    "# Etapa 1: Importação das bibliotecas"
   ]
  },
  {
   "cell_type": "code",
   "execution_count": 1,
   "id": "d1437fde",
   "metadata": {
    "execution": {
     "iopub.execute_input": "2022-03-30T18:05:46.220641Z",
     "iopub.status.busy": "2022-03-30T18:05:46.219899Z",
     "iopub.status.idle": "2022-03-30T18:05:52.207143Z",
     "shell.execute_reply": "2022-03-30T18:05:52.206278Z",
     "shell.execute_reply.started": "2022-03-28T17:09:17.826831Z"
    },
    "id": "S0Cx3743urFY",
    "outputId": "69ff6380-65f1-4b20-ded0-37d4d17d41c8",
    "papermill": {
     "duration": 6.060147,
     "end_time": "2022-03-30T18:05:52.207339",
     "exception": false,
     "start_time": "2022-03-30T18:05:46.147192",
     "status": "completed"
    },
    "tags": []
   },
   "outputs": [],
   "source": [
    "import tensorflow as tf\n",
    "import pandas as pd\n",
    "import numpy as np\n",
    "import seaborn as sns\n",
    "import matplotlib.pyplot as plt"
   ]
  },
  {
   "cell_type": "markdown",
   "id": "8c3fa0bc",
   "metadata": {
    "id": "uAE6Icc0uylP",
    "papermill": {
     "duration": 0.052849,
     "end_time": "2022-03-30T18:05:52.310017",
     "exception": false,
     "start_time": "2022-03-30T18:05:52.257168",
     "status": "completed"
    },
    "tags": []
   },
   "source": [
    "# Etapa 2: Importação da base de dados"
   ]
  },
  {
   "cell_type": "markdown",
   "id": "ccfa77d0",
   "metadata": {
    "papermill": {
     "duration": 0.052588,
     "end_time": "2022-03-30T18:05:52.412394",
     "exception": false,
     "start_time": "2022-03-30T18:05:52.359806",
     "status": "completed"
    },
    "tags": []
   },
   "source": [
    "Iremos importar nossa base de dados e em seguidas analisarmos algumas estatíscas descritivas da nossa base."
   ]
  },
  {
   "cell_type": "code",
   "execution_count": 2,
   "id": "35981a47",
   "metadata": {
    "execution": {
     "iopub.execute_input": "2022-03-30T18:05:52.514943Z",
     "iopub.status.busy": "2022-03-30T18:05:52.514355Z",
     "iopub.status.idle": "2022-03-30T18:05:52.530871Z",
     "shell.execute_reply": "2022-03-30T18:05:52.531522Z",
     "shell.execute_reply.started": "2022-03-28T17:20:47.835213Z"
    },
    "id": "tjIiJdM4u1IE",
    "papermill": {
     "duration": 0.069565,
     "end_time": "2022-03-30T18:05:52.531747",
     "exception": false,
     "start_time": "2022-03-30T18:05:52.462182",
     "status": "completed"
    },
    "tags": []
   },
   "outputs": [],
   "source": [
    "bike = pd.read_csv('../input/bikecsv/bike-sharing-daily.csv')"
   ]
  },
  {
   "cell_type": "code",
   "execution_count": 3,
   "id": "d625e5a4",
   "metadata": {
    "execution": {
     "iopub.execute_input": "2022-03-30T18:05:52.644554Z",
     "iopub.status.busy": "2022-03-30T18:05:52.643965Z",
     "iopub.status.idle": "2022-03-30T18:05:52.670598Z",
     "shell.execute_reply": "2022-03-30T18:05:52.671108Z",
     "shell.execute_reply.started": "2022-03-28T17:09:17.861929Z"
    },
    "id": "q4_wPDKCu5Uc",
    "outputId": "7115b2c7-0c2f-4ea7-c94c-b94667b615ad",
    "papermill": {
     "duration": 0.088782,
     "end_time": "2022-03-30T18:05:52.671275",
     "exception": false,
     "start_time": "2022-03-30T18:05:52.582493",
     "status": "completed"
    },
    "tags": []
   },
   "outputs": [
    {
     "data": {
      "text/html": [
       "<div>\n",
       "<style scoped>\n",
       "    .dataframe tbody tr th:only-of-type {\n",
       "        vertical-align: middle;\n",
       "    }\n",
       "\n",
       "    .dataframe tbody tr th {\n",
       "        vertical-align: top;\n",
       "    }\n",
       "\n",
       "    .dataframe thead th {\n",
       "        text-align: right;\n",
       "    }\n",
       "</style>\n",
       "<table border=\"1\" class=\"dataframe\">\n",
       "  <thead>\n",
       "    <tr style=\"text-align: right;\">\n",
       "      <th></th>\n",
       "      <th>instant</th>\n",
       "      <th>dteday</th>\n",
       "      <th>season</th>\n",
       "      <th>yr</th>\n",
       "      <th>mnth</th>\n",
       "      <th>holiday</th>\n",
       "      <th>weekday</th>\n",
       "      <th>workingday</th>\n",
       "      <th>weathersit</th>\n",
       "      <th>temp</th>\n",
       "      <th>hum</th>\n",
       "      <th>windspeed</th>\n",
       "      <th>casual</th>\n",
       "      <th>registered</th>\n",
       "      <th>cnt</th>\n",
       "    </tr>\n",
       "  </thead>\n",
       "  <tbody>\n",
       "    <tr>\n",
       "      <th>0</th>\n",
       "      <td>1</td>\n",
       "      <td>1/1/2011</td>\n",
       "      <td>1</td>\n",
       "      <td>0</td>\n",
       "      <td>1</td>\n",
       "      <td>0</td>\n",
       "      <td>6</td>\n",
       "      <td>0</td>\n",
       "      <td>2</td>\n",
       "      <td>0.344167</td>\n",
       "      <td>0.805833</td>\n",
       "      <td>0.160446</td>\n",
       "      <td>331</td>\n",
       "      <td>654</td>\n",
       "      <td>985</td>\n",
       "    </tr>\n",
       "    <tr>\n",
       "      <th>1</th>\n",
       "      <td>2</td>\n",
       "      <td>1/2/2011</td>\n",
       "      <td>1</td>\n",
       "      <td>0</td>\n",
       "      <td>1</td>\n",
       "      <td>0</td>\n",
       "      <td>0</td>\n",
       "      <td>0</td>\n",
       "      <td>2</td>\n",
       "      <td>0.363478</td>\n",
       "      <td>0.696087</td>\n",
       "      <td>0.248539</td>\n",
       "      <td>131</td>\n",
       "      <td>670</td>\n",
       "      <td>801</td>\n",
       "    </tr>\n",
       "    <tr>\n",
       "      <th>2</th>\n",
       "      <td>3</td>\n",
       "      <td>1/3/2011</td>\n",
       "      <td>1</td>\n",
       "      <td>0</td>\n",
       "      <td>1</td>\n",
       "      <td>0</td>\n",
       "      <td>1</td>\n",
       "      <td>1</td>\n",
       "      <td>1</td>\n",
       "      <td>0.196364</td>\n",
       "      <td>0.437273</td>\n",
       "      <td>0.248309</td>\n",
       "      <td>120</td>\n",
       "      <td>1229</td>\n",
       "      <td>1349</td>\n",
       "    </tr>\n",
       "    <tr>\n",
       "      <th>3</th>\n",
       "      <td>4</td>\n",
       "      <td>1/4/2011</td>\n",
       "      <td>1</td>\n",
       "      <td>0</td>\n",
       "      <td>1</td>\n",
       "      <td>0</td>\n",
       "      <td>2</td>\n",
       "      <td>1</td>\n",
       "      <td>1</td>\n",
       "      <td>0.200000</td>\n",
       "      <td>0.590435</td>\n",
       "      <td>0.160296</td>\n",
       "      <td>108</td>\n",
       "      <td>1454</td>\n",
       "      <td>1562</td>\n",
       "    </tr>\n",
       "    <tr>\n",
       "      <th>4</th>\n",
       "      <td>5</td>\n",
       "      <td>1/5/2011</td>\n",
       "      <td>1</td>\n",
       "      <td>0</td>\n",
       "      <td>1</td>\n",
       "      <td>0</td>\n",
       "      <td>3</td>\n",
       "      <td>1</td>\n",
       "      <td>1</td>\n",
       "      <td>0.226957</td>\n",
       "      <td>0.436957</td>\n",
       "      <td>0.186900</td>\n",
       "      <td>82</td>\n",
       "      <td>1518</td>\n",
       "      <td>1600</td>\n",
       "    </tr>\n",
       "    <tr>\n",
       "      <th>...</th>\n",
       "      <td>...</td>\n",
       "      <td>...</td>\n",
       "      <td>...</td>\n",
       "      <td>...</td>\n",
       "      <td>...</td>\n",
       "      <td>...</td>\n",
       "      <td>...</td>\n",
       "      <td>...</td>\n",
       "      <td>...</td>\n",
       "      <td>...</td>\n",
       "      <td>...</td>\n",
       "      <td>...</td>\n",
       "      <td>...</td>\n",
       "      <td>...</td>\n",
       "      <td>...</td>\n",
       "    </tr>\n",
       "    <tr>\n",
       "      <th>726</th>\n",
       "      <td>727</td>\n",
       "      <td>12/27/2012</td>\n",
       "      <td>1</td>\n",
       "      <td>1</td>\n",
       "      <td>12</td>\n",
       "      <td>0</td>\n",
       "      <td>4</td>\n",
       "      <td>1</td>\n",
       "      <td>2</td>\n",
       "      <td>0.254167</td>\n",
       "      <td>0.652917</td>\n",
       "      <td>0.350133</td>\n",
       "      <td>247</td>\n",
       "      <td>1867</td>\n",
       "      <td>2114</td>\n",
       "    </tr>\n",
       "    <tr>\n",
       "      <th>727</th>\n",
       "      <td>728</td>\n",
       "      <td>12/28/2012</td>\n",
       "      <td>1</td>\n",
       "      <td>1</td>\n",
       "      <td>12</td>\n",
       "      <td>0</td>\n",
       "      <td>5</td>\n",
       "      <td>1</td>\n",
       "      <td>2</td>\n",
       "      <td>0.253333</td>\n",
       "      <td>0.590000</td>\n",
       "      <td>0.155471</td>\n",
       "      <td>644</td>\n",
       "      <td>2451</td>\n",
       "      <td>3095</td>\n",
       "    </tr>\n",
       "    <tr>\n",
       "      <th>728</th>\n",
       "      <td>729</td>\n",
       "      <td>12/29/2012</td>\n",
       "      <td>1</td>\n",
       "      <td>1</td>\n",
       "      <td>12</td>\n",
       "      <td>0</td>\n",
       "      <td>6</td>\n",
       "      <td>0</td>\n",
       "      <td>2</td>\n",
       "      <td>0.253333</td>\n",
       "      <td>0.752917</td>\n",
       "      <td>0.124383</td>\n",
       "      <td>159</td>\n",
       "      <td>1182</td>\n",
       "      <td>1341</td>\n",
       "    </tr>\n",
       "    <tr>\n",
       "      <th>729</th>\n",
       "      <td>730</td>\n",
       "      <td>12/30/2012</td>\n",
       "      <td>1</td>\n",
       "      <td>1</td>\n",
       "      <td>12</td>\n",
       "      <td>0</td>\n",
       "      <td>0</td>\n",
       "      <td>0</td>\n",
       "      <td>1</td>\n",
       "      <td>0.255833</td>\n",
       "      <td>0.483333</td>\n",
       "      <td>0.350754</td>\n",
       "      <td>364</td>\n",
       "      <td>1432</td>\n",
       "      <td>1796</td>\n",
       "    </tr>\n",
       "    <tr>\n",
       "      <th>730</th>\n",
       "      <td>731</td>\n",
       "      <td>12/31/2012</td>\n",
       "      <td>1</td>\n",
       "      <td>1</td>\n",
       "      <td>12</td>\n",
       "      <td>0</td>\n",
       "      <td>1</td>\n",
       "      <td>1</td>\n",
       "      <td>2</td>\n",
       "      <td>0.215833</td>\n",
       "      <td>0.577500</td>\n",
       "      <td>0.154846</td>\n",
       "      <td>439</td>\n",
       "      <td>2290</td>\n",
       "      <td>2729</td>\n",
       "    </tr>\n",
       "  </tbody>\n",
       "</table>\n",
       "<p>731 rows × 15 columns</p>\n",
       "</div>"
      ],
      "text/plain": [
       "     instant      dteday  season  yr  mnth  holiday  weekday  workingday  \\\n",
       "0          1    1/1/2011       1   0     1        0        6           0   \n",
       "1          2    1/2/2011       1   0     1        0        0           0   \n",
       "2          3    1/3/2011       1   0     1        0        1           1   \n",
       "3          4    1/4/2011       1   0     1        0        2           1   \n",
       "4          5    1/5/2011       1   0     1        0        3           1   \n",
       "..       ...         ...     ...  ..   ...      ...      ...         ...   \n",
       "726      727  12/27/2012       1   1    12        0        4           1   \n",
       "727      728  12/28/2012       1   1    12        0        5           1   \n",
       "728      729  12/29/2012       1   1    12        0        6           0   \n",
       "729      730  12/30/2012       1   1    12        0        0           0   \n",
       "730      731  12/31/2012       1   1    12        0        1           1   \n",
       "\n",
       "     weathersit      temp       hum  windspeed  casual  registered   cnt  \n",
       "0             2  0.344167  0.805833   0.160446     331         654   985  \n",
       "1             2  0.363478  0.696087   0.248539     131         670   801  \n",
       "2             1  0.196364  0.437273   0.248309     120        1229  1349  \n",
       "3             1  0.200000  0.590435   0.160296     108        1454  1562  \n",
       "4             1  0.226957  0.436957   0.186900      82        1518  1600  \n",
       "..          ...       ...       ...        ...     ...         ...   ...  \n",
       "726           2  0.254167  0.652917   0.350133     247        1867  2114  \n",
       "727           2  0.253333  0.590000   0.155471     644        2451  3095  \n",
       "728           2  0.253333  0.752917   0.124383     159        1182  1341  \n",
       "729           1  0.255833  0.483333   0.350754     364        1432  1796  \n",
       "730           2  0.215833  0.577500   0.154846     439        2290  2729  \n",
       "\n",
       "[731 rows x 15 columns]"
      ]
     },
     "execution_count": 3,
     "metadata": {},
     "output_type": "execute_result"
    }
   ],
   "source": [
    "bike"
   ]
  },
  {
   "cell_type": "code",
   "execution_count": 4,
   "id": "f9cf55a3",
   "metadata": {
    "execution": {
     "iopub.execute_input": "2022-03-30T18:05:52.778982Z",
     "iopub.status.busy": "2022-03-30T18:05:52.778340Z",
     "iopub.status.idle": "2022-03-30T18:05:52.805492Z",
     "shell.execute_reply": "2022-03-30T18:05:52.806080Z",
     "shell.execute_reply.started": "2022-03-28T17:09:17.886413Z"
    },
    "id": "hMq3-KWOx0e1",
    "outputId": "00281f40-e5e8-49fb-f210-26a20725ceda",
    "papermill": {
     "duration": 0.081933,
     "end_time": "2022-03-30T18:05:52.806239",
     "exception": false,
     "start_time": "2022-03-30T18:05:52.724306",
     "status": "completed"
    },
    "tags": []
   },
   "outputs": [
    {
     "name": "stdout",
     "output_type": "stream",
     "text": [
      "<class 'pandas.core.frame.DataFrame'>\n",
      "RangeIndex: 731 entries, 0 to 730\n",
      "Data columns (total 15 columns):\n",
      " #   Column      Non-Null Count  Dtype  \n",
      "---  ------      --------------  -----  \n",
      " 0   instant     731 non-null    int64  \n",
      " 1   dteday      731 non-null    object \n",
      " 2   season      731 non-null    int64  \n",
      " 3   yr          731 non-null    int64  \n",
      " 4   mnth        731 non-null    int64  \n",
      " 5   holiday     731 non-null    int64  \n",
      " 6   weekday     731 non-null    int64  \n",
      " 7   workingday  731 non-null    int64  \n",
      " 8   weathersit  731 non-null    int64  \n",
      " 9   temp        731 non-null    float64\n",
      " 10  hum         731 non-null    float64\n",
      " 11  windspeed   731 non-null    float64\n",
      " 12  casual      731 non-null    int64  \n",
      " 13  registered  731 non-null    int64  \n",
      " 14  cnt         731 non-null    int64  \n",
      "dtypes: float64(3), int64(11), object(1)\n",
      "memory usage: 85.8+ KB\n"
     ]
    },
    {
     "data": {
      "text/plain": [
       "None"
      ]
     },
     "metadata": {},
     "output_type": "display_data"
    }
   ],
   "source": [
    "display(bike.info())"
   ]
  },
  {
   "cell_type": "code",
   "execution_count": 5,
   "id": "529d0b99",
   "metadata": {
    "execution": {
     "iopub.execute_input": "2022-03-30T18:05:52.912608Z",
     "iopub.status.busy": "2022-03-30T18:05:52.912004Z",
     "iopub.status.idle": "2022-03-30T18:05:52.955070Z",
     "shell.execute_reply": "2022-03-30T18:05:52.955558Z",
     "shell.execute_reply.started": "2022-03-28T17:09:17.904198Z"
    },
    "id": "Nn1Oxk2SzPX3",
    "outputId": "25b63981-e751-44ba-a56d-62a4dddbec1f",
    "papermill": {
     "duration": 0.097754,
     "end_time": "2022-03-30T18:05:52.955781",
     "exception": false,
     "start_time": "2022-03-30T18:05:52.858027",
     "status": "completed"
    },
    "tags": []
   },
   "outputs": [
    {
     "data": {
      "text/html": [
       "<div>\n",
       "<style scoped>\n",
       "    .dataframe tbody tr th:only-of-type {\n",
       "        vertical-align: middle;\n",
       "    }\n",
       "\n",
       "    .dataframe tbody tr th {\n",
       "        vertical-align: top;\n",
       "    }\n",
       "\n",
       "    .dataframe thead th {\n",
       "        text-align: right;\n",
       "    }\n",
       "</style>\n",
       "<table border=\"1\" class=\"dataframe\">\n",
       "  <thead>\n",
       "    <tr style=\"text-align: right;\">\n",
       "      <th></th>\n",
       "      <th>instant</th>\n",
       "      <th>season</th>\n",
       "      <th>yr</th>\n",
       "      <th>mnth</th>\n",
       "      <th>holiday</th>\n",
       "      <th>weekday</th>\n",
       "      <th>workingday</th>\n",
       "      <th>weathersit</th>\n",
       "      <th>temp</th>\n",
       "      <th>hum</th>\n",
       "      <th>windspeed</th>\n",
       "      <th>casual</th>\n",
       "      <th>registered</th>\n",
       "      <th>cnt</th>\n",
       "    </tr>\n",
       "  </thead>\n",
       "  <tbody>\n",
       "    <tr>\n",
       "      <th>count</th>\n",
       "      <td>731.000000</td>\n",
       "      <td>731.000000</td>\n",
       "      <td>731.000000</td>\n",
       "      <td>731.000000</td>\n",
       "      <td>731.000000</td>\n",
       "      <td>731.000000</td>\n",
       "      <td>731.000000</td>\n",
       "      <td>731.000000</td>\n",
       "      <td>731.000000</td>\n",
       "      <td>731.000000</td>\n",
       "      <td>731.000000</td>\n",
       "      <td>731.000000</td>\n",
       "      <td>731.000000</td>\n",
       "      <td>731.000000</td>\n",
       "    </tr>\n",
       "    <tr>\n",
       "      <th>mean</th>\n",
       "      <td>366.000000</td>\n",
       "      <td>2.496580</td>\n",
       "      <td>0.500684</td>\n",
       "      <td>6.519836</td>\n",
       "      <td>0.028728</td>\n",
       "      <td>2.997264</td>\n",
       "      <td>0.683995</td>\n",
       "      <td>1.395349</td>\n",
       "      <td>0.495385</td>\n",
       "      <td>0.627894</td>\n",
       "      <td>0.190486</td>\n",
       "      <td>848.176471</td>\n",
       "      <td>3656.172367</td>\n",
       "      <td>4504.348837</td>\n",
       "    </tr>\n",
       "    <tr>\n",
       "      <th>std</th>\n",
       "      <td>211.165812</td>\n",
       "      <td>1.110807</td>\n",
       "      <td>0.500342</td>\n",
       "      <td>3.451913</td>\n",
       "      <td>0.167155</td>\n",
       "      <td>2.004787</td>\n",
       "      <td>0.465233</td>\n",
       "      <td>0.544894</td>\n",
       "      <td>0.183051</td>\n",
       "      <td>0.142429</td>\n",
       "      <td>0.077498</td>\n",
       "      <td>686.622488</td>\n",
       "      <td>1560.256377</td>\n",
       "      <td>1937.211452</td>\n",
       "    </tr>\n",
       "    <tr>\n",
       "      <th>min</th>\n",
       "      <td>1.000000</td>\n",
       "      <td>1.000000</td>\n",
       "      <td>0.000000</td>\n",
       "      <td>1.000000</td>\n",
       "      <td>0.000000</td>\n",
       "      <td>0.000000</td>\n",
       "      <td>0.000000</td>\n",
       "      <td>1.000000</td>\n",
       "      <td>0.059130</td>\n",
       "      <td>0.000000</td>\n",
       "      <td>0.022392</td>\n",
       "      <td>2.000000</td>\n",
       "      <td>20.000000</td>\n",
       "      <td>22.000000</td>\n",
       "    </tr>\n",
       "    <tr>\n",
       "      <th>25%</th>\n",
       "      <td>183.500000</td>\n",
       "      <td>2.000000</td>\n",
       "      <td>0.000000</td>\n",
       "      <td>4.000000</td>\n",
       "      <td>0.000000</td>\n",
       "      <td>1.000000</td>\n",
       "      <td>0.000000</td>\n",
       "      <td>1.000000</td>\n",
       "      <td>0.337083</td>\n",
       "      <td>0.520000</td>\n",
       "      <td>0.134950</td>\n",
       "      <td>315.500000</td>\n",
       "      <td>2497.000000</td>\n",
       "      <td>3152.000000</td>\n",
       "    </tr>\n",
       "    <tr>\n",
       "      <th>50%</th>\n",
       "      <td>366.000000</td>\n",
       "      <td>3.000000</td>\n",
       "      <td>1.000000</td>\n",
       "      <td>7.000000</td>\n",
       "      <td>0.000000</td>\n",
       "      <td>3.000000</td>\n",
       "      <td>1.000000</td>\n",
       "      <td>1.000000</td>\n",
       "      <td>0.498333</td>\n",
       "      <td>0.626667</td>\n",
       "      <td>0.180975</td>\n",
       "      <td>713.000000</td>\n",
       "      <td>3662.000000</td>\n",
       "      <td>4548.000000</td>\n",
       "    </tr>\n",
       "    <tr>\n",
       "      <th>75%</th>\n",
       "      <td>548.500000</td>\n",
       "      <td>3.000000</td>\n",
       "      <td>1.000000</td>\n",
       "      <td>10.000000</td>\n",
       "      <td>0.000000</td>\n",
       "      <td>5.000000</td>\n",
       "      <td>1.000000</td>\n",
       "      <td>2.000000</td>\n",
       "      <td>0.655417</td>\n",
       "      <td>0.730209</td>\n",
       "      <td>0.233214</td>\n",
       "      <td>1096.000000</td>\n",
       "      <td>4776.500000</td>\n",
       "      <td>5956.000000</td>\n",
       "    </tr>\n",
       "    <tr>\n",
       "      <th>max</th>\n",
       "      <td>731.000000</td>\n",
       "      <td>4.000000</td>\n",
       "      <td>1.000000</td>\n",
       "      <td>12.000000</td>\n",
       "      <td>1.000000</td>\n",
       "      <td>6.000000</td>\n",
       "      <td>1.000000</td>\n",
       "      <td>3.000000</td>\n",
       "      <td>0.861667</td>\n",
       "      <td>0.972500</td>\n",
       "      <td>0.507463</td>\n",
       "      <td>3410.000000</td>\n",
       "      <td>6946.000000</td>\n",
       "      <td>8714.000000</td>\n",
       "    </tr>\n",
       "  </tbody>\n",
       "</table>\n",
       "</div>"
      ],
      "text/plain": [
       "          instant      season          yr        mnth     holiday     weekday  \\\n",
       "count  731.000000  731.000000  731.000000  731.000000  731.000000  731.000000   \n",
       "mean   366.000000    2.496580    0.500684    6.519836    0.028728    2.997264   \n",
       "std    211.165812    1.110807    0.500342    3.451913    0.167155    2.004787   \n",
       "min      1.000000    1.000000    0.000000    1.000000    0.000000    0.000000   \n",
       "25%    183.500000    2.000000    0.000000    4.000000    0.000000    1.000000   \n",
       "50%    366.000000    3.000000    1.000000    7.000000    0.000000    3.000000   \n",
       "75%    548.500000    3.000000    1.000000   10.000000    0.000000    5.000000   \n",
       "max    731.000000    4.000000    1.000000   12.000000    1.000000    6.000000   \n",
       "\n",
       "       workingday  weathersit        temp         hum   windspeed  \\\n",
       "count  731.000000  731.000000  731.000000  731.000000  731.000000   \n",
       "mean     0.683995    1.395349    0.495385    0.627894    0.190486   \n",
       "std      0.465233    0.544894    0.183051    0.142429    0.077498   \n",
       "min      0.000000    1.000000    0.059130    0.000000    0.022392   \n",
       "25%      0.000000    1.000000    0.337083    0.520000    0.134950   \n",
       "50%      1.000000    1.000000    0.498333    0.626667    0.180975   \n",
       "75%      1.000000    2.000000    0.655417    0.730209    0.233214   \n",
       "max      1.000000    3.000000    0.861667    0.972500    0.507463   \n",
       "\n",
       "            casual   registered          cnt  \n",
       "count   731.000000   731.000000   731.000000  \n",
       "mean    848.176471  3656.172367  4504.348837  \n",
       "std     686.622488  1560.256377  1937.211452  \n",
       "min       2.000000    20.000000    22.000000  \n",
       "25%     315.500000  2497.000000  3152.000000  \n",
       "50%     713.000000  3662.000000  4548.000000  \n",
       "75%    1096.000000  4776.500000  5956.000000  \n",
       "max    3410.000000  6946.000000  8714.000000  "
      ]
     },
     "execution_count": 5,
     "metadata": {},
     "output_type": "execute_result"
    }
   ],
   "source": [
    "bike.describe()"
   ]
  },
  {
   "cell_type": "markdown",
   "id": "b30f9db9",
   "metadata": {
    "id": "LlszUhNNyrl_",
    "papermill": {
     "duration": 0.051694,
     "end_time": "2022-03-30T18:05:53.059510",
     "exception": false,
     "start_time": "2022-03-30T18:05:53.007816",
     "status": "completed"
    },
    "tags": []
   },
   "source": [
    "# Etapa 3: Limpeza da base de dados"
   ]
  },
  {
   "cell_type": "markdown",
   "id": "8ac515d5",
   "metadata": {
    "papermill": {
     "duration": 0.053424,
     "end_time": "2022-03-30T18:05:53.169455",
     "exception": false,
     "start_time": "2022-03-30T18:05:53.116031",
     "status": "completed"
    },
    "tags": []
   },
   "source": [
    "Vamos verificar se a nossa base de dados contém valores nulos e em seguida iremos realizar alguns processos de limpeza de dados em nossa base."
   ]
  },
  {
   "cell_type": "code",
   "execution_count": 6,
   "id": "ca107148",
   "metadata": {
    "execution": {
     "iopub.execute_input": "2022-03-30T18:05:53.278530Z",
     "iopub.status.busy": "2022-03-30T18:05:53.277913Z",
     "iopub.status.idle": "2022-03-30T18:05:53.766833Z",
     "shell.execute_reply": "2022-03-30T18:05:53.766177Z",
     "shell.execute_reply.started": "2022-03-28T17:09:17.959523Z"
    },
    "id": "SrGrJML-Q0Dl",
    "outputId": "d1b7d2d0-7284-4409-f37d-8c93bc500d22",
    "papermill": {
     "duration": 0.543832,
     "end_time": "2022-03-30T18:05:53.766983",
     "exception": false,
     "start_time": "2022-03-30T18:05:53.223151",
     "status": "completed"
    },
    "tags": []
   },
   "outputs": [
    {
     "data": {
      "image/png": "[encoded data removed]",
      "text/plain": [
       "<Figure size 432x288 with 2 Axes>"
      ]
     },
     "metadata": {
      "needs_background": "light"
     },
     "output_type": "display_data"
    }
   ],
   "source": [
    "sns.heatmap(bike.isnull());"
   ]
  },
  {
   "cell_type": "code",
   "execution_count": 7,
   "id": "d92978e7",
   "metadata": {
    "execution": {
     "iopub.execute_input": "2022-03-30T18:05:53.885271Z",
     "iopub.status.busy": "2022-03-30T18:05:53.884404Z",
     "iopub.status.idle": "2022-03-30T18:05:53.886820Z",
     "shell.execute_reply": "2022-03-30T18:05:53.887230Z",
     "shell.execute_reply.started": "2022-03-28T17:09:18.46525Z"
    },
    "id": "hsNonSuPRPno",
    "papermill": {
     "duration": 0.064856,
     "end_time": "2022-03-30T18:05:53.887400",
     "exception": false,
     "start_time": "2022-03-30T18:05:53.822544",
     "status": "completed"
    },
    "tags": []
   },
   "outputs": [],
   "source": [
    "bike = bike.drop(labels=['instant'], axis = 1)"
   ]
  },
  {
   "cell_type": "code",
   "execution_count": 8,
   "id": "ac7fbddf",
   "metadata": {
    "execution": {
     "iopub.execute_input": "2022-03-30T18:05:54.006262Z",
     "iopub.status.busy": "2022-03-30T18:05:54.005277Z",
     "iopub.status.idle": "2022-03-30T18:05:54.018188Z",
     "shell.execute_reply": "2022-03-30T18:05:54.018701Z",
     "shell.execute_reply.started": "2022-03-28T17:09:18.47279Z"
    },
    "id": "Xmc6Z70YRe-q",
    "outputId": "fb26a2ae-b2d6-4f10-ad86-fdbd43a6a8ee",
    "papermill": {
     "duration": 0.077038,
     "end_time": "2022-03-30T18:05:54.018866",
     "exception": false,
     "start_time": "2022-03-30T18:05:53.941828",
     "status": "completed"
    },
    "tags": []
   },
   "outputs": [
    {
     "data": {
      "text/html": [
       "<div>\n",
       "<style scoped>\n",
       "    .dataframe tbody tr th:only-of-type {\n",
       "        vertical-align: middle;\n",
       "    }\n",
       "\n",
       "    .dataframe tbody tr th {\n",
       "        vertical-align: top;\n",
       "    }\n",
       "\n",
       "    .dataframe thead th {\n",
       "        text-align: right;\n",
       "    }\n",
       "</style>\n",
       "<table border=\"1\" class=\"dataframe\">\n",
       "  <thead>\n",
       "    <tr style=\"text-align: right;\">\n",
       "      <th></th>\n",
       "      <th>dteday</th>\n",
       "      <th>season</th>\n",
       "      <th>yr</th>\n",
       "      <th>mnth</th>\n",
       "      <th>holiday</th>\n",
       "      <th>weekday</th>\n",
       "      <th>workingday</th>\n",
       "      <th>weathersit</th>\n",
       "      <th>temp</th>\n",
       "      <th>hum</th>\n",
       "      <th>windspeed</th>\n",
       "      <th>casual</th>\n",
       "      <th>registered</th>\n",
       "      <th>cnt</th>\n",
       "    </tr>\n",
       "  </thead>\n",
       "  <tbody>\n",
       "    <tr>\n",
       "      <th>0</th>\n",
       "      <td>1/1/2011</td>\n",
       "      <td>1</td>\n",
       "      <td>0</td>\n",
       "      <td>1</td>\n",
       "      <td>0</td>\n",
       "      <td>6</td>\n",
       "      <td>0</td>\n",
       "      <td>2</td>\n",
       "      <td>0.344167</td>\n",
       "      <td>0.805833</td>\n",
       "      <td>0.160446</td>\n",
       "      <td>331</td>\n",
       "      <td>654</td>\n",
       "      <td>985</td>\n",
       "    </tr>\n",
       "    <tr>\n",
       "      <th>1</th>\n",
       "      <td>1/2/2011</td>\n",
       "      <td>1</td>\n",
       "      <td>0</td>\n",
       "      <td>1</td>\n",
       "      <td>0</td>\n",
       "      <td>0</td>\n",
       "      <td>0</td>\n",
       "      <td>2</td>\n",
       "      <td>0.363478</td>\n",
       "      <td>0.696087</td>\n",
       "      <td>0.248539</td>\n",
       "      <td>131</td>\n",
       "      <td>670</td>\n",
       "      <td>801</td>\n",
       "    </tr>\n",
       "    <tr>\n",
       "      <th>2</th>\n",
       "      <td>1/3/2011</td>\n",
       "      <td>1</td>\n",
       "      <td>0</td>\n",
       "      <td>1</td>\n",
       "      <td>0</td>\n",
       "      <td>1</td>\n",
       "      <td>1</td>\n",
       "      <td>1</td>\n",
       "      <td>0.196364</td>\n",
       "      <td>0.437273</td>\n",
       "      <td>0.248309</td>\n",
       "      <td>120</td>\n",
       "      <td>1229</td>\n",
       "      <td>1349</td>\n",
       "    </tr>\n",
       "    <tr>\n",
       "      <th>3</th>\n",
       "      <td>1/4/2011</td>\n",
       "      <td>1</td>\n",
       "      <td>0</td>\n",
       "      <td>1</td>\n",
       "      <td>0</td>\n",
       "      <td>2</td>\n",
       "      <td>1</td>\n",
       "      <td>1</td>\n",
       "      <td>0.200000</td>\n",
       "      <td>0.590435</td>\n",
       "      <td>0.160296</td>\n",
       "      <td>108</td>\n",
       "      <td>1454</td>\n",
       "      <td>1562</td>\n",
       "    </tr>\n",
       "    <tr>\n",
       "      <th>4</th>\n",
       "      <td>1/5/2011</td>\n",
       "      <td>1</td>\n",
       "      <td>0</td>\n",
       "      <td>1</td>\n",
       "      <td>0</td>\n",
       "      <td>3</td>\n",
       "      <td>1</td>\n",
       "      <td>1</td>\n",
       "      <td>0.226957</td>\n",
       "      <td>0.436957</td>\n",
       "      <td>0.186900</td>\n",
       "      <td>82</td>\n",
       "      <td>1518</td>\n",
       "      <td>1600</td>\n",
       "    </tr>\n",
       "  </tbody>\n",
       "</table>\n",
       "</div>"
      ],
      "text/plain": [
       "     dteday  season  yr  mnth  holiday  weekday  workingday  weathersit  \\\n",
       "0  1/1/2011       1   0     1        0        6           0           2   \n",
       "1  1/2/2011       1   0     1        0        0           0           2   \n",
       "2  1/3/2011       1   0     1        0        1           1           1   \n",
       "3  1/4/2011       1   0     1        0        2           1           1   \n",
       "4  1/5/2011       1   0     1        0        3           1           1   \n",
       "\n",
       "       temp       hum  windspeed  casual  registered   cnt  \n",
       "0  0.344167  0.805833   0.160446     331         654   985  \n",
       "1  0.363478  0.696087   0.248539     131         670   801  \n",
       "2  0.196364  0.437273   0.248309     120        1229  1349  \n",
       "3  0.200000  0.590435   0.160296     108        1454  1562  \n",
       "4  0.226957  0.436957   0.186900      82        1518  1600  "
      ]
     },
     "execution_count": 8,
     "metadata": {},
     "output_type": "execute_result"
    }
   ],
   "source": [
    "bike.head()"
   ]
  },
  {
   "cell_type": "code",
   "execution_count": 9,
   "id": "bf239fd6",
   "metadata": {
    "execution": {
     "iopub.execute_input": "2022-03-30T18:05:54.132711Z",
     "iopub.status.busy": "2022-03-30T18:05:54.131797Z",
     "iopub.status.idle": "2022-03-30T18:05:54.134008Z",
     "shell.execute_reply": "2022-03-30T18:05:54.134490Z",
     "shell.execute_reply.started": "2022-03-28T17:09:18.496334Z"
    },
    "id": "brwm53N0RkG4",
    "papermill": {
     "duration": 0.062503,
     "end_time": "2022-03-30T18:05:54.134676",
     "exception": false,
     "start_time": "2022-03-30T18:05:54.072173",
     "status": "completed"
    },
    "tags": []
   },
   "outputs": [],
   "source": [
    "bike = bike.drop(labels=['casual', 'registered'], axis = 1)"
   ]
  },
  {
   "cell_type": "code",
   "execution_count": 10,
   "id": "d32c78f5",
   "metadata": {
    "execution": {
     "iopub.execute_input": "2022-03-30T18:05:54.261947Z",
     "iopub.status.busy": "2022-03-30T18:05:54.261030Z",
     "iopub.status.idle": "2022-03-30T18:05:54.265258Z",
     "shell.execute_reply": "2022-03-30T18:05:54.265876Z",
     "shell.execute_reply.started": "2022-03-28T17:09:18.510825Z"
    },
    "id": "uscw_-_7RwSH",
    "outputId": "131568c8-6236-4b29-af50-f3f4bdd63c20",
    "papermill": {
     "duration": 0.076714,
     "end_time": "2022-03-30T18:05:54.266055",
     "exception": false,
     "start_time": "2022-03-30T18:05:54.189341",
     "status": "completed"
    },
    "tags": []
   },
   "outputs": [
    {
     "data": {
      "text/html": [
       "<div>\n",
       "<style scoped>\n",
       "    .dataframe tbody tr th:only-of-type {\n",
       "        vertical-align: middle;\n",
       "    }\n",
       "\n",
       "    .dataframe tbody tr th {\n",
       "        vertical-align: top;\n",
       "    }\n",
       "\n",
       "    .dataframe thead th {\n",
       "        text-align: right;\n",
       "    }\n",
       "</style>\n",
       "<table border=\"1\" class=\"dataframe\">\n",
       "  <thead>\n",
       "    <tr style=\"text-align: right;\">\n",
       "      <th></th>\n",
       "      <th>dteday</th>\n",
       "      <th>season</th>\n",
       "      <th>yr</th>\n",
       "      <th>mnth</th>\n",
       "      <th>holiday</th>\n",
       "      <th>weekday</th>\n",
       "      <th>workingday</th>\n",
       "      <th>weathersit</th>\n",
       "      <th>temp</th>\n",
       "      <th>hum</th>\n",
       "      <th>windspeed</th>\n",
       "      <th>cnt</th>\n",
       "    </tr>\n",
       "  </thead>\n",
       "  <tbody>\n",
       "    <tr>\n",
       "      <th>0</th>\n",
       "      <td>1/1/2011</td>\n",
       "      <td>1</td>\n",
       "      <td>0</td>\n",
       "      <td>1</td>\n",
       "      <td>0</td>\n",
       "      <td>6</td>\n",
       "      <td>0</td>\n",
       "      <td>2</td>\n",
       "      <td>0.344167</td>\n",
       "      <td>0.805833</td>\n",
       "      <td>0.160446</td>\n",
       "      <td>985</td>\n",
       "    </tr>\n",
       "    <tr>\n",
       "      <th>1</th>\n",
       "      <td>1/2/2011</td>\n",
       "      <td>1</td>\n",
       "      <td>0</td>\n",
       "      <td>1</td>\n",
       "      <td>0</td>\n",
       "      <td>0</td>\n",
       "      <td>0</td>\n",
       "      <td>2</td>\n",
       "      <td>0.363478</td>\n",
       "      <td>0.696087</td>\n",
       "      <td>0.248539</td>\n",
       "      <td>801</td>\n",
       "    </tr>\n",
       "    <tr>\n",
       "      <th>2</th>\n",
       "      <td>1/3/2011</td>\n",
       "      <td>1</td>\n",
       "      <td>0</td>\n",
       "      <td>1</td>\n",
       "      <td>0</td>\n",
       "      <td>1</td>\n",
       "      <td>1</td>\n",
       "      <td>1</td>\n",
       "      <td>0.196364</td>\n",
       "      <td>0.437273</td>\n",
       "      <td>0.248309</td>\n",
       "      <td>1349</td>\n",
       "    </tr>\n",
       "    <tr>\n",
       "      <th>3</th>\n",
       "      <td>1/4/2011</td>\n",
       "      <td>1</td>\n",
       "      <td>0</td>\n",
       "      <td>1</td>\n",
       "      <td>0</td>\n",
       "      <td>2</td>\n",
       "      <td>1</td>\n",
       "      <td>1</td>\n",
       "      <td>0.200000</td>\n",
       "      <td>0.590435</td>\n",
       "      <td>0.160296</td>\n",
       "      <td>1562</td>\n",
       "    </tr>\n",
       "    <tr>\n",
       "      <th>4</th>\n",
       "      <td>1/5/2011</td>\n",
       "      <td>1</td>\n",
       "      <td>0</td>\n",
       "      <td>1</td>\n",
       "      <td>0</td>\n",
       "      <td>3</td>\n",
       "      <td>1</td>\n",
       "      <td>1</td>\n",
       "      <td>0.226957</td>\n",
       "      <td>0.436957</td>\n",
       "      <td>0.186900</td>\n",
       "      <td>1600</td>\n",
       "    </tr>\n",
       "    <tr>\n",
       "      <th>...</th>\n",
       "      <td>...</td>\n",
       "      <td>...</td>\n",
       "      <td>...</td>\n",
       "      <td>...</td>\n",
       "      <td>...</td>\n",
       "      <td>...</td>\n",
       "      <td>...</td>\n",
       "      <td>...</td>\n",
       "      <td>...</td>\n",
       "      <td>...</td>\n",
       "      <td>...</td>\n",
       "      <td>...</td>\n",
       "    </tr>\n",
       "    <tr>\n",
       "      <th>726</th>\n",
       "      <td>12/27/2012</td>\n",
       "      <td>1</td>\n",
       "      <td>1</td>\n",
       "      <td>12</td>\n",
       "      <td>0</td>\n",
       "      <td>4</td>\n",
       "      <td>1</td>\n",
       "      <td>2</td>\n",
       "      <td>0.254167</td>\n",
       "      <td>0.652917</td>\n",
       "      <td>0.350133</td>\n",
       "      <td>2114</td>\n",
       "    </tr>\n",
       "    <tr>\n",
       "      <th>727</th>\n",
       "      <td>12/28/2012</td>\n",
       "      <td>1</td>\n",
       "      <td>1</td>\n",
       "      <td>12</td>\n",
       "      <td>0</td>\n",
       "      <td>5</td>\n",
       "      <td>1</td>\n",
       "      <td>2</td>\n",
       "      <td>0.253333</td>\n",
       "      <td>0.590000</td>\n",
       "      <td>0.155471</td>\n",
       "      <td>3095</td>\n",
       "    </tr>\n",
       "    <tr>\n",
       "      <th>728</th>\n",
       "      <td>12/29/2012</td>\n",
       "      <td>1</td>\n",
       "      <td>1</td>\n",
       "      <td>12</td>\n",
       "      <td>0</td>\n",
       "      <td>6</td>\n",
       "      <td>0</td>\n",
       "      <td>2</td>\n",
       "      <td>0.253333</td>\n",
       "      <td>0.752917</td>\n",
       "      <td>0.124383</td>\n",
       "      <td>1341</td>\n",
       "    </tr>\n",
       "    <tr>\n",
       "      <th>729</th>\n",
       "      <td>12/30/2012</td>\n",
       "      <td>1</td>\n",
       "      <td>1</td>\n",
       "      <td>12</td>\n",
       "      <td>0</td>\n",
       "      <td>0</td>\n",
       "      <td>0</td>\n",
       "      <td>1</td>\n",
       "      <td>0.255833</td>\n",
       "      <td>0.483333</td>\n",
       "      <td>0.350754</td>\n",
       "      <td>1796</td>\n",
       "    </tr>\n",
       "    <tr>\n",
       "      <th>730</th>\n",
       "      <td>12/31/2012</td>\n",
       "      <td>1</td>\n",
       "      <td>1</td>\n",
       "      <td>12</td>\n",
       "      <td>0</td>\n",
       "      <td>1</td>\n",
       "      <td>1</td>\n",
       "      <td>2</td>\n",
       "      <td>0.215833</td>\n",
       "      <td>0.577500</td>\n",
       "      <td>0.154846</td>\n",
       "      <td>2729</td>\n",
       "    </tr>\n",
       "  </tbody>\n",
       "</table>\n",
       "<p>731 rows × 12 columns</p>\n",
       "</div>"
      ],
      "text/plain": [
       "         dteday  season  yr  mnth  holiday  weekday  workingday  weathersit  \\\n",
       "0      1/1/2011       1   0     1        0        6           0           2   \n",
       "1      1/2/2011       1   0     1        0        0           0           2   \n",
       "2      1/3/2011       1   0     1        0        1           1           1   \n",
       "3      1/4/2011       1   0     1        0        2           1           1   \n",
       "4      1/5/2011       1   0     1        0        3           1           1   \n",
       "..          ...     ...  ..   ...      ...      ...         ...         ...   \n",
       "726  12/27/2012       1   1    12        0        4           1           2   \n",
       "727  12/28/2012       1   1    12        0        5           1           2   \n",
       "728  12/29/2012       1   1    12        0        6           0           2   \n",
       "729  12/30/2012       1   1    12        0        0           0           1   \n",
       "730  12/31/2012       1   1    12        0        1           1           2   \n",
       "\n",
       "         temp       hum  windspeed   cnt  \n",
       "0    0.344167  0.805833   0.160446   985  \n",
       "1    0.363478  0.696087   0.248539   801  \n",
       "2    0.196364  0.437273   0.248309  1349  \n",
       "3    0.200000  0.590435   0.160296  1562  \n",
       "4    0.226957  0.436957   0.186900  1600  \n",
       "..        ...       ...        ...   ...  \n",
       "726  0.254167  0.652917   0.350133  2114  \n",
       "727  0.253333  0.590000   0.155471  3095  \n",
       "728  0.253333  0.752917   0.124383  1341  \n",
       "729  0.255833  0.483333   0.350754  1796  \n",
       "730  0.215833  0.577500   0.154846  2729  \n",
       "\n",
       "[731 rows x 12 columns]"
      ]
     },
     "execution_count": 10,
     "metadata": {},
     "output_type": "execute_result"
    }
   ],
   "source": [
    "bike"
   ]
  },
  {
   "cell_type": "code",
   "execution_count": 11,
   "id": "643776cd",
   "metadata": {
    "execution": {
     "iopub.execute_input": "2022-03-30T18:05:54.386343Z",
     "iopub.status.busy": "2022-03-30T18:05:54.385696Z",
     "iopub.status.idle": "2022-03-30T18:05:54.389386Z",
     "shell.execute_reply": "2022-03-30T18:05:54.388720Z",
     "shell.execute_reply.started": "2022-03-28T17:09:18.537373Z"
    },
    "id": "l0Q8_zLPR2Yf",
    "papermill": {
     "duration": 0.069391,
     "end_time": "2022-03-30T18:05:54.389527",
     "exception": false,
     "start_time": "2022-03-30T18:05:54.320136",
     "status": "completed"
    },
    "tags": []
   },
   "outputs": [],
   "source": [
    "bike.dteday = pd.to_datetime(bike.dteday, format = '%m/%d/%Y')"
   ]
  },
  {
   "cell_type": "code",
   "execution_count": 12,
   "id": "e537ffcb",
   "metadata": {
    "execution": {
     "iopub.execute_input": "2022-03-30T18:05:54.513112Z",
     "iopub.status.busy": "2022-03-30T18:05:54.512413Z",
     "iopub.status.idle": "2022-03-30T18:05:54.514946Z",
     "shell.execute_reply": "2022-03-30T18:05:54.515411Z",
     "shell.execute_reply.started": "2022-03-28T17:09:18.546775Z"
    },
    "id": "ZIWPgcnQSCZf",
    "outputId": "d24252cd-6921-4acd-9f1d-b3489a9b9ec0",
    "papermill": {
     "duration": 0.069343,
     "end_time": "2022-03-30T18:05:54.515563",
     "exception": false,
     "start_time": "2022-03-30T18:05:54.446220",
     "status": "completed"
    },
    "tags": []
   },
   "outputs": [
    {
     "data": {
      "text/html": [
       "<div>\n",
       "<style scoped>\n",
       "    .dataframe tbody tr th:only-of-type {\n",
       "        vertical-align: middle;\n",
       "    }\n",
       "\n",
       "    .dataframe tbody tr th {\n",
       "        vertical-align: top;\n",
       "    }\n",
       "\n",
       "    .dataframe thead th {\n",
       "        text-align: right;\n",
       "    }\n",
       "</style>\n",
       "<table border=\"1\" class=\"dataframe\">\n",
       "  <thead>\n",
       "    <tr style=\"text-align: right;\">\n",
       "      <th></th>\n",
       "      <th>dteday</th>\n",
       "      <th>season</th>\n",
       "      <th>yr</th>\n",
       "      <th>mnth</th>\n",
       "      <th>holiday</th>\n",
       "      <th>weekday</th>\n",
       "      <th>workingday</th>\n",
       "      <th>weathersit</th>\n",
       "      <th>temp</th>\n",
       "      <th>hum</th>\n",
       "      <th>windspeed</th>\n",
       "      <th>cnt</th>\n",
       "    </tr>\n",
       "  </thead>\n",
       "  <tbody>\n",
       "    <tr>\n",
       "      <th>0</th>\n",
       "      <td>2011-01-01</td>\n",
       "      <td>1</td>\n",
       "      <td>0</td>\n",
       "      <td>1</td>\n",
       "      <td>0</td>\n",
       "      <td>6</td>\n",
       "      <td>0</td>\n",
       "      <td>2</td>\n",
       "      <td>0.344167</td>\n",
       "      <td>0.805833</td>\n",
       "      <td>0.160446</td>\n",
       "      <td>985</td>\n",
       "    </tr>\n",
       "    <tr>\n",
       "      <th>1</th>\n",
       "      <td>2011-01-02</td>\n",
       "      <td>1</td>\n",
       "      <td>0</td>\n",
       "      <td>1</td>\n",
       "      <td>0</td>\n",
       "      <td>0</td>\n",
       "      <td>0</td>\n",
       "      <td>2</td>\n",
       "      <td>0.363478</td>\n",
       "      <td>0.696087</td>\n",
       "      <td>0.248539</td>\n",
       "      <td>801</td>\n",
       "    </tr>\n",
       "    <tr>\n",
       "      <th>2</th>\n",
       "      <td>2011-01-03</td>\n",
       "      <td>1</td>\n",
       "      <td>0</td>\n",
       "      <td>1</td>\n",
       "      <td>0</td>\n",
       "      <td>1</td>\n",
       "      <td>1</td>\n",
       "      <td>1</td>\n",
       "      <td>0.196364</td>\n",
       "      <td>0.437273</td>\n",
       "      <td>0.248309</td>\n",
       "      <td>1349</td>\n",
       "    </tr>\n",
       "    <tr>\n",
       "      <th>3</th>\n",
       "      <td>2011-01-04</td>\n",
       "      <td>1</td>\n",
       "      <td>0</td>\n",
       "      <td>1</td>\n",
       "      <td>0</td>\n",
       "      <td>2</td>\n",
       "      <td>1</td>\n",
       "      <td>1</td>\n",
       "      <td>0.200000</td>\n",
       "      <td>0.590435</td>\n",
       "      <td>0.160296</td>\n",
       "      <td>1562</td>\n",
       "    </tr>\n",
       "    <tr>\n",
       "      <th>4</th>\n",
       "      <td>2011-01-05</td>\n",
       "      <td>1</td>\n",
       "      <td>0</td>\n",
       "      <td>1</td>\n",
       "      <td>0</td>\n",
       "      <td>3</td>\n",
       "      <td>1</td>\n",
       "      <td>1</td>\n",
       "      <td>0.226957</td>\n",
       "      <td>0.436957</td>\n",
       "      <td>0.186900</td>\n",
       "      <td>1600</td>\n",
       "    </tr>\n",
       "  </tbody>\n",
       "</table>\n",
       "</div>"
      ],
      "text/plain": [
       "      dteday  season  yr  mnth  holiday  weekday  workingday  weathersit  \\\n",
       "0 2011-01-01       1   0     1        0        6           0           2   \n",
       "1 2011-01-02       1   0     1        0        0           0           2   \n",
       "2 2011-01-03       1   0     1        0        1           1           1   \n",
       "3 2011-01-04       1   0     1        0        2           1           1   \n",
       "4 2011-01-05       1   0     1        0        3           1           1   \n",
       "\n",
       "       temp       hum  windspeed   cnt  \n",
       "0  0.344167  0.805833   0.160446   985  \n",
       "1  0.363478  0.696087   0.248539   801  \n",
       "2  0.196364  0.437273   0.248309  1349  \n",
       "3  0.200000  0.590435   0.160296  1562  \n",
       "4  0.226957  0.436957   0.186900  1600  "
      ]
     },
     "execution_count": 12,
     "metadata": {},
     "output_type": "execute_result"
    }
   ],
   "source": [
    "bike.head()"
   ]
  },
  {
   "cell_type": "code",
   "execution_count": 13,
   "id": "d673bb34",
   "metadata": {
    "execution": {
     "iopub.execute_input": "2022-03-30T18:05:54.628823Z",
     "iopub.status.busy": "2022-03-30T18:05:54.628200Z",
     "iopub.status.idle": "2022-03-30T18:05:54.631281Z",
     "shell.execute_reply": "2022-03-30T18:05:54.631723Z",
     "shell.execute_reply.started": "2022-03-28T17:09:18.568365Z"
    },
    "id": "1sa8EjVVSIEd",
    "papermill": {
     "duration": 0.062292,
     "end_time": "2022-03-30T18:05:54.631885",
     "exception": false,
     "start_time": "2022-03-30T18:05:54.569593",
     "status": "completed"
    },
    "tags": []
   },
   "outputs": [],
   "source": [
    "bike.index = pd.DatetimeIndex(bike.dteday)"
   ]
  },
  {
   "cell_type": "code",
   "execution_count": 14,
   "id": "d078fe17",
   "metadata": {
    "execution": {
     "iopub.execute_input": "2022-03-30T18:05:54.753282Z",
     "iopub.status.busy": "2022-03-30T18:05:54.752278Z",
     "iopub.status.idle": "2022-03-30T18:05:54.756380Z",
     "shell.execute_reply": "2022-03-30T18:05:54.756836Z",
     "shell.execute_reply.started": "2022-03-28T17:09:18.582197Z"
    },
    "id": "CJOxXIICSOhO",
    "outputId": "961a0bae-7473-4c32-8577-35f8af0bc8a1",
    "papermill": {
     "duration": 0.071101,
     "end_time": "2022-03-30T18:05:54.757015",
     "exception": false,
     "start_time": "2022-03-30T18:05:54.685914",
     "status": "completed"
    },
    "tags": []
   },
   "outputs": [
    {
     "data": {
      "text/html": [
       "<div>\n",
       "<style scoped>\n",
       "    .dataframe tbody tr th:only-of-type {\n",
       "        vertical-align: middle;\n",
       "    }\n",
       "\n",
       "    .dataframe tbody tr th {\n",
       "        vertical-align: top;\n",
       "    }\n",
       "\n",
       "    .dataframe thead th {\n",
       "        text-align: right;\n",
       "    }\n",
       "</style>\n",
       "<table border=\"1\" class=\"dataframe\">\n",
       "  <thead>\n",
       "    <tr style=\"text-align: right;\">\n",
       "      <th></th>\n",
       "      <th>dteday</th>\n",
       "      <th>season</th>\n",
       "      <th>yr</th>\n",
       "      <th>mnth</th>\n",
       "      <th>holiday</th>\n",
       "      <th>weekday</th>\n",
       "      <th>workingday</th>\n",
       "      <th>weathersit</th>\n",
       "      <th>temp</th>\n",
       "      <th>hum</th>\n",
       "      <th>windspeed</th>\n",
       "      <th>cnt</th>\n",
       "    </tr>\n",
       "    <tr>\n",
       "      <th>dteday</th>\n",
       "      <th></th>\n",
       "      <th></th>\n",
       "      <th></th>\n",
       "      <th></th>\n",
       "      <th></th>\n",
       "      <th></th>\n",
       "      <th></th>\n",
       "      <th></th>\n",
       "      <th></th>\n",
       "      <th></th>\n",
       "      <th></th>\n",
       "      <th></th>\n",
       "    </tr>\n",
       "  </thead>\n",
       "  <tbody>\n",
       "    <tr>\n",
       "      <th>2011-01-01</th>\n",
       "      <td>2011-01-01</td>\n",
       "      <td>1</td>\n",
       "      <td>0</td>\n",
       "      <td>1</td>\n",
       "      <td>0</td>\n",
       "      <td>6</td>\n",
       "      <td>0</td>\n",
       "      <td>2</td>\n",
       "      <td>0.344167</td>\n",
       "      <td>0.805833</td>\n",
       "      <td>0.160446</td>\n",
       "      <td>985</td>\n",
       "    </tr>\n",
       "    <tr>\n",
       "      <th>2011-01-02</th>\n",
       "      <td>2011-01-02</td>\n",
       "      <td>1</td>\n",
       "      <td>0</td>\n",
       "      <td>1</td>\n",
       "      <td>0</td>\n",
       "      <td>0</td>\n",
       "      <td>0</td>\n",
       "      <td>2</td>\n",
       "      <td>0.363478</td>\n",
       "      <td>0.696087</td>\n",
       "      <td>0.248539</td>\n",
       "      <td>801</td>\n",
       "    </tr>\n",
       "    <tr>\n",
       "      <th>2011-01-03</th>\n",
       "      <td>2011-01-03</td>\n",
       "      <td>1</td>\n",
       "      <td>0</td>\n",
       "      <td>1</td>\n",
       "      <td>0</td>\n",
       "      <td>1</td>\n",
       "      <td>1</td>\n",
       "      <td>1</td>\n",
       "      <td>0.196364</td>\n",
       "      <td>0.437273</td>\n",
       "      <td>0.248309</td>\n",
       "      <td>1349</td>\n",
       "    </tr>\n",
       "    <tr>\n",
       "      <th>2011-01-04</th>\n",
       "      <td>2011-01-04</td>\n",
       "      <td>1</td>\n",
       "      <td>0</td>\n",
       "      <td>1</td>\n",
       "      <td>0</td>\n",
       "      <td>2</td>\n",
       "      <td>1</td>\n",
       "      <td>1</td>\n",
       "      <td>0.200000</td>\n",
       "      <td>0.590435</td>\n",
       "      <td>0.160296</td>\n",
       "      <td>1562</td>\n",
       "    </tr>\n",
       "    <tr>\n",
       "      <th>2011-01-05</th>\n",
       "      <td>2011-01-05</td>\n",
       "      <td>1</td>\n",
       "      <td>0</td>\n",
       "      <td>1</td>\n",
       "      <td>0</td>\n",
       "      <td>3</td>\n",
       "      <td>1</td>\n",
       "      <td>1</td>\n",
       "      <td>0.226957</td>\n",
       "      <td>0.436957</td>\n",
       "      <td>0.186900</td>\n",
       "      <td>1600</td>\n",
       "    </tr>\n",
       "  </tbody>\n",
       "</table>\n",
       "</div>"
      ],
      "text/plain": [
       "               dteday  season  yr  mnth  holiday  weekday  workingday  \\\n",
       "dteday                                                                  \n",
       "2011-01-01 2011-01-01       1   0     1        0        6           0   \n",
       "2011-01-02 2011-01-02       1   0     1        0        0           0   \n",
       "2011-01-03 2011-01-03       1   0     1        0        1           1   \n",
       "2011-01-04 2011-01-04       1   0     1        0        2           1   \n",
       "2011-01-05 2011-01-05       1   0     1        0        3           1   \n",
       "\n",
       "            weathersit      temp       hum  windspeed   cnt  \n",
       "dteday                                                       \n",
       "2011-01-01           2  0.344167  0.805833   0.160446   985  \n",
       "2011-01-02           2  0.363478  0.696087   0.248539   801  \n",
       "2011-01-03           1  0.196364  0.437273   0.248309  1349  \n",
       "2011-01-04           1  0.200000  0.590435   0.160296  1562  \n",
       "2011-01-05           1  0.226957  0.436957   0.186900  1600  "
      ]
     },
     "execution_count": 14,
     "metadata": {},
     "output_type": "execute_result"
    }
   ],
   "source": [
    "bike.head()"
   ]
  },
  {
   "cell_type": "code",
   "execution_count": 15,
   "id": "14873eb3",
   "metadata": {
    "execution": {
     "iopub.execute_input": "2022-03-30T18:05:54.875670Z",
     "iopub.status.busy": "2022-03-30T18:05:54.874706Z",
     "iopub.status.idle": "2022-03-30T18:05:54.879617Z",
     "shell.execute_reply": "2022-03-30T18:05:54.880368Z",
     "shell.execute_reply.started": "2022-03-28T17:09:18.604664Z"
    },
    "id": "PLF02FaySUZR",
    "papermill": {
     "duration": 0.065647,
     "end_time": "2022-03-30T18:05:54.880553",
     "exception": false,
     "start_time": "2022-03-30T18:05:54.814906",
     "status": "completed"
    },
    "tags": []
   },
   "outputs": [],
   "source": [
    "bike = bike.drop(labels=['dteday'], axis=1)"
   ]
  },
  {
   "cell_type": "code",
   "execution_count": 16,
   "id": "6c6fe56a",
   "metadata": {
    "execution": {
     "iopub.execute_input": "2022-03-30T18:05:54.995376Z",
     "iopub.status.busy": "2022-03-30T18:05:54.994408Z",
     "iopub.status.idle": "2022-03-30T18:05:55.008919Z",
     "shell.execute_reply": "2022-03-30T18:05:55.009442Z",
     "shell.execute_reply.started": "2022-03-28T17:09:18.618116Z"
    },
    "id": "8obht86zSaHv",
    "outputId": "4564ef11-7faf-466a-f7b8-1f3706f7e312",
    "papermill": {
     "duration": 0.073891,
     "end_time": "2022-03-30T18:05:55.009608",
     "exception": false,
     "start_time": "2022-03-30T18:05:54.935717",
     "status": "completed"
    },
    "tags": []
   },
   "outputs": [
    {
     "data": {
      "text/html": [
       "<div>\n",
       "<style scoped>\n",
       "    .dataframe tbody tr th:only-of-type {\n",
       "        vertical-align: middle;\n",
       "    }\n",
       "\n",
       "    .dataframe tbody tr th {\n",
       "        vertical-align: top;\n",
       "    }\n",
       "\n",
       "    .dataframe thead th {\n",
       "        text-align: right;\n",
       "    }\n",
       "</style>\n",
       "<table border=\"1\" class=\"dataframe\">\n",
       "  <thead>\n",
       "    <tr style=\"text-align: right;\">\n",
       "      <th></th>\n",
       "      <th>season</th>\n",
       "      <th>yr</th>\n",
       "      <th>mnth</th>\n",
       "      <th>holiday</th>\n",
       "      <th>weekday</th>\n",
       "      <th>workingday</th>\n",
       "      <th>weathersit</th>\n",
       "      <th>temp</th>\n",
       "      <th>hum</th>\n",
       "      <th>windspeed</th>\n",
       "      <th>cnt</th>\n",
       "    </tr>\n",
       "    <tr>\n",
       "      <th>dteday</th>\n",
       "      <th></th>\n",
       "      <th></th>\n",
       "      <th></th>\n",
       "      <th></th>\n",
       "      <th></th>\n",
       "      <th></th>\n",
       "      <th></th>\n",
       "      <th></th>\n",
       "      <th></th>\n",
       "      <th></th>\n",
       "      <th></th>\n",
       "    </tr>\n",
       "  </thead>\n",
       "  <tbody>\n",
       "    <tr>\n",
       "      <th>2011-01-01</th>\n",
       "      <td>1</td>\n",
       "      <td>0</td>\n",
       "      <td>1</td>\n",
       "      <td>0</td>\n",
       "      <td>6</td>\n",
       "      <td>0</td>\n",
       "      <td>2</td>\n",
       "      <td>0.344167</td>\n",
       "      <td>0.805833</td>\n",
       "      <td>0.160446</td>\n",
       "      <td>985</td>\n",
       "    </tr>\n",
       "    <tr>\n",
       "      <th>2011-01-02</th>\n",
       "      <td>1</td>\n",
       "      <td>0</td>\n",
       "      <td>1</td>\n",
       "      <td>0</td>\n",
       "      <td>0</td>\n",
       "      <td>0</td>\n",
       "      <td>2</td>\n",
       "      <td>0.363478</td>\n",
       "      <td>0.696087</td>\n",
       "      <td>0.248539</td>\n",
       "      <td>801</td>\n",
       "    </tr>\n",
       "    <tr>\n",
       "      <th>2011-01-03</th>\n",
       "      <td>1</td>\n",
       "      <td>0</td>\n",
       "      <td>1</td>\n",
       "      <td>0</td>\n",
       "      <td>1</td>\n",
       "      <td>1</td>\n",
       "      <td>1</td>\n",
       "      <td>0.196364</td>\n",
       "      <td>0.437273</td>\n",
       "      <td>0.248309</td>\n",
       "      <td>1349</td>\n",
       "    </tr>\n",
       "    <tr>\n",
       "      <th>2011-01-04</th>\n",
       "      <td>1</td>\n",
       "      <td>0</td>\n",
       "      <td>1</td>\n",
       "      <td>0</td>\n",
       "      <td>2</td>\n",
       "      <td>1</td>\n",
       "      <td>1</td>\n",
       "      <td>0.200000</td>\n",
       "      <td>0.590435</td>\n",
       "      <td>0.160296</td>\n",
       "      <td>1562</td>\n",
       "    </tr>\n",
       "    <tr>\n",
       "      <th>2011-01-05</th>\n",
       "      <td>1</td>\n",
       "      <td>0</td>\n",
       "      <td>1</td>\n",
       "      <td>0</td>\n",
       "      <td>3</td>\n",
       "      <td>1</td>\n",
       "      <td>1</td>\n",
       "      <td>0.226957</td>\n",
       "      <td>0.436957</td>\n",
       "      <td>0.186900</td>\n",
       "      <td>1600</td>\n",
       "    </tr>\n",
       "  </tbody>\n",
       "</table>\n",
       "</div>"
      ],
      "text/plain": [
       "            season  yr  mnth  holiday  weekday  workingday  weathersit  \\\n",
       "dteday                                                                   \n",
       "2011-01-01       1   0     1        0        6           0           2   \n",
       "2011-01-02       1   0     1        0        0           0           2   \n",
       "2011-01-03       1   0     1        0        1           1           1   \n",
       "2011-01-04       1   0     1        0        2           1           1   \n",
       "2011-01-05       1   0     1        0        3           1           1   \n",
       "\n",
       "                temp       hum  windspeed   cnt  \n",
       "dteday                                           \n",
       "2011-01-01  0.344167  0.805833   0.160446   985  \n",
       "2011-01-02  0.363478  0.696087   0.248539   801  \n",
       "2011-01-03  0.196364  0.437273   0.248309  1349  \n",
       "2011-01-04  0.200000  0.590435   0.160296  1562  \n",
       "2011-01-05  0.226957  0.436957   0.186900  1600  "
      ]
     },
     "execution_count": 16,
     "metadata": {},
     "output_type": "execute_result"
    }
   ],
   "source": [
    "bike.head()"
   ]
  },
  {
   "cell_type": "markdown",
   "id": "5d6efe10",
   "metadata": {
    "id": "Y0GmpAjG3GiH",
    "papermill": {
     "duration": 0.056873,
     "end_time": "2022-03-30T18:05:55.123052",
     "exception": false,
     "start_time": "2022-03-30T18:05:55.066179",
     "status": "completed"
    },
    "tags": []
   },
   "source": [
    "# Etapa 4: Visualização da base de dados"
   ]
  },
  {
   "cell_type": "markdown",
   "id": "c73b066e",
   "metadata": {
    "papermill": {
     "duration": 0.05716,
     "end_time": "2022-03-30T18:05:55.235470",
     "exception": false,
     "start_time": "2022-03-30T18:05:55.178310",
     "status": "completed"
    },
    "tags": []
   },
   "source": [
    "Agora, vejamos alguns gráficos que facilitarão o entendimento das variáveis da base de dados e das correlações que elas possuem entre si."
   ]
  },
  {
   "cell_type": "code",
   "execution_count": 17,
   "id": "01770944",
   "metadata": {
    "execution": {
     "iopub.execute_input": "2022-03-30T18:05:55.356438Z",
     "iopub.status.busy": "2022-03-30T18:05:55.355796Z",
     "iopub.status.idle": "2022-03-30T18:05:55.662748Z",
     "shell.execute_reply": "2022-03-30T18:05:55.662080Z",
     "shell.execute_reply.started": "2022-03-28T17:09:18.639462Z"
    },
    "id": "OkWzIEChTDyy",
    "outputId": "9aead410-72cb-48f6-b114-4546a680e690",
    "papermill": {
     "duration": 0.366853,
     "end_time": "2022-03-30T18:05:55.662887",
     "exception": false,
     "start_time": "2022-03-30T18:05:55.296034",
     "status": "completed"
    },
    "tags": []
   },
   "outputs": [
    {
     "data": {
      "image/png": "[encoded data removed]",
      "text/plain": [
       "<Figure size 432x288 with 1 Axes>"
      ]
     },
     "metadata": {
      "needs_background": "light"
     },
     "output_type": "display_data"
    }
   ],
   "source": [
    "bike['cnt'].asfreq('W').plot(linewidth = 3)\n",
    "plt.title('Bike usage per week')\n",
    "plt.xlabel('Week')\n",
    "plt.ylabel('Bike rental');"
   ]
  },
  {
   "cell_type": "code",
   "execution_count": 18,
   "id": "199be2be",
   "metadata": {
    "execution": {
     "iopub.execute_input": "2022-03-30T18:05:55.796818Z",
     "iopub.status.busy": "2022-03-30T18:05:55.795851Z",
     "iopub.status.idle": "2022-03-30T18:05:56.047362Z",
     "shell.execute_reply": "2022-03-30T18:05:56.047792Z",
     "shell.execute_reply.started": "2022-03-28T17:09:18.939217Z"
    },
    "id": "t5r4rKG7TsCq",
    "outputId": "52bd11d5-0e7c-4481-e5ab-bdbda99eada0",
    "papermill": {
     "duration": 0.322844,
     "end_time": "2022-03-30T18:05:56.047974",
     "exception": false,
     "start_time": "2022-03-30T18:05:55.725130",
     "status": "completed"
    },
    "tags": []
   },
   "outputs": [
    {
     "data": {
      "image/png": "[encoded data removed]",
      "text/plain": [
       "<Figure size 432x288 with 1 Axes>"
      ]
     },
     "metadata": {
      "needs_background": "light"
     },
     "output_type": "display_data"
    }
   ],
   "source": [
    "bike['cnt'].asfreq('M').plot(linewidth = 3)\n",
    "plt.title('Bike usage per month')\n",
    "plt.xlabel('Week')\n",
    "plt.ylabel('Bike rental');"
   ]
  },
  {
   "cell_type": "code",
   "execution_count": 19,
   "id": "15b4ab95",
   "metadata": {
    "execution": {
     "iopub.execute_input": "2022-03-30T18:05:56.172602Z",
     "iopub.status.busy": "2022-03-30T18:05:56.171763Z",
     "iopub.status.idle": "2022-03-30T18:05:56.376165Z",
     "shell.execute_reply": "2022-03-30T18:05:56.375555Z",
     "shell.execute_reply.started": "2022-03-28T17:09:19.222992Z"
    },
    "id": "kzH7Y4QkUA3d",
    "outputId": "3cea60c9-09dc-487f-af33-766cb393697a",
    "papermill": {
     "duration": 0.266807,
     "end_time": "2022-03-30T18:05:56.376301",
     "exception": false,
     "start_time": "2022-03-30T18:05:56.109494",
     "status": "completed"
    },
    "tags": []
   },
   "outputs": [
    {
     "data": {
      "image/png": "[encoded data removed]",
      "text/plain": [
       "<Figure size 432x288 with 1 Axes>"
      ]
     },
     "metadata": {
      "needs_background": "light"
     },
     "output_type": "display_data"
    }
   ],
   "source": [
    "bike['cnt'].asfreq('Q').plot(linewidth = 3)\n",
    "plt.title('Bike usage per quarter')\n",
    "plt.xlabel('Week')\n",
    "plt.ylabel('Bike rental');"
   ]
  },
  {
   "cell_type": "code",
   "execution_count": 20,
   "id": "5f8a1247",
   "metadata": {
    "execution": {
     "iopub.execute_input": "2022-03-30T18:05:56.501044Z",
     "iopub.status.busy": "2022-03-30T18:05:56.500381Z",
     "iopub.status.idle": "2022-03-30T18:05:57.396609Z",
     "shell.execute_reply": "2022-03-30T18:05:57.397159Z",
     "shell.execute_reply.started": "2022-03-28T17:09:19.65988Z"
    },
    "papermill": {
     "duration": 0.960939,
     "end_time": "2022-03-30T18:05:57.397338",
     "exception": false,
     "start_time": "2022-03-30T18:05:56.436399",
     "status": "completed"
    },
    "tags": []
   },
   "outputs": [
    {
     "data": {
      "image/png": "[encoded data removed]",
      "text/plain": [
       "<Figure size 1440x720 with 2 Axes>"
      ]
     },
     "metadata": {
      "needs_background": "light"
     },
     "output_type": "display_data"
    }
   ],
   "source": [
    "plt.figure(figsize=(20,10))\n",
    "sns.heatmap(bike.corr(), annot = True);\n"
   ]
  },
  {
   "cell_type": "code",
   "execution_count": 21,
   "id": "f4c7bff8",
   "metadata": {
    "execution": {
     "iopub.execute_input": "2022-03-30T18:05:57.527595Z",
     "iopub.status.busy": "2022-03-30T18:05:57.526708Z",
     "iopub.status.idle": "2022-03-30T18:05:57.531262Z",
     "shell.execute_reply": "2022-03-30T18:05:57.531762Z",
     "shell.execute_reply.started": "2022-03-28T17:09:20.617074Z"
    },
    "id": "V6pwvZiFVKwz",
    "papermill": {
     "duration": 0.072741,
     "end_time": "2022-03-30T18:05:57.531918",
     "exception": false,
     "start_time": "2022-03-30T18:05:57.459177",
     "status": "completed"
    },
    "tags": []
   },
   "outputs": [],
   "source": [
    "X_numerical = bike[['temp', 'hum', 'windspeed', 'cnt']]"
   ]
  },
  {
   "cell_type": "code",
   "execution_count": 22,
   "id": "a3ef82c8",
   "metadata": {
    "execution": {
     "iopub.execute_input": "2022-03-30T18:05:57.660629Z",
     "iopub.status.busy": "2022-03-30T18:05:57.659614Z",
     "iopub.status.idle": "2022-03-30T18:05:57.673133Z",
     "shell.execute_reply": "2022-03-30T18:05:57.673640Z",
     "shell.execute_reply.started": "2022-03-28T17:09:20.622867Z"
    },
    "id": "R8N7-2zoVTot",
    "outputId": "09a54341-4eef-4663-e740-42539468dbec",
    "papermill": {
     "duration": 0.079477,
     "end_time": "2022-03-30T18:05:57.673859",
     "exception": false,
     "start_time": "2022-03-30T18:05:57.594382",
     "status": "completed"
    },
    "tags": []
   },
   "outputs": [
    {
     "data": {
      "text/html": [
       "<div>\n",
       "<style scoped>\n",
       "    .dataframe tbody tr th:only-of-type {\n",
       "        vertical-align: middle;\n",
       "    }\n",
       "\n",
       "    .dataframe tbody tr th {\n",
       "        vertical-align: top;\n",
       "    }\n",
       "\n",
       "    .dataframe thead th {\n",
       "        text-align: right;\n",
       "    }\n",
       "</style>\n",
       "<table border=\"1\" class=\"dataframe\">\n",
       "  <thead>\n",
       "    <tr style=\"text-align: right;\">\n",
       "      <th></th>\n",
       "      <th>temp</th>\n",
       "      <th>hum</th>\n",
       "      <th>windspeed</th>\n",
       "      <th>cnt</th>\n",
       "    </tr>\n",
       "    <tr>\n",
       "      <th>dteday</th>\n",
       "      <th></th>\n",
       "      <th></th>\n",
       "      <th></th>\n",
       "      <th></th>\n",
       "    </tr>\n",
       "  </thead>\n",
       "  <tbody>\n",
       "    <tr>\n",
       "      <th>2011-01-01</th>\n",
       "      <td>0.344167</td>\n",
       "      <td>0.805833</td>\n",
       "      <td>0.160446</td>\n",
       "      <td>985</td>\n",
       "    </tr>\n",
       "    <tr>\n",
       "      <th>2011-01-02</th>\n",
       "      <td>0.363478</td>\n",
       "      <td>0.696087</td>\n",
       "      <td>0.248539</td>\n",
       "      <td>801</td>\n",
       "    </tr>\n",
       "    <tr>\n",
       "      <th>2011-01-03</th>\n",
       "      <td>0.196364</td>\n",
       "      <td>0.437273</td>\n",
       "      <td>0.248309</td>\n",
       "      <td>1349</td>\n",
       "    </tr>\n",
       "    <tr>\n",
       "      <th>2011-01-04</th>\n",
       "      <td>0.200000</td>\n",
       "      <td>0.590435</td>\n",
       "      <td>0.160296</td>\n",
       "      <td>1562</td>\n",
       "    </tr>\n",
       "    <tr>\n",
       "      <th>2011-01-05</th>\n",
       "      <td>0.226957</td>\n",
       "      <td>0.436957</td>\n",
       "      <td>0.186900</td>\n",
       "      <td>1600</td>\n",
       "    </tr>\n",
       "    <tr>\n",
       "      <th>...</th>\n",
       "      <td>...</td>\n",
       "      <td>...</td>\n",
       "      <td>...</td>\n",
       "      <td>...</td>\n",
       "    </tr>\n",
       "    <tr>\n",
       "      <th>2012-12-27</th>\n",
       "      <td>0.254167</td>\n",
       "      <td>0.652917</td>\n",
       "      <td>0.350133</td>\n",
       "      <td>2114</td>\n",
       "    </tr>\n",
       "    <tr>\n",
       "      <th>2012-12-28</th>\n",
       "      <td>0.253333</td>\n",
       "      <td>0.590000</td>\n",
       "      <td>0.155471</td>\n",
       "      <td>3095</td>\n",
       "    </tr>\n",
       "    <tr>\n",
       "      <th>2012-12-29</th>\n",
       "      <td>0.253333</td>\n",
       "      <td>0.752917</td>\n",
       "      <td>0.124383</td>\n",
       "      <td>1341</td>\n",
       "    </tr>\n",
       "    <tr>\n",
       "      <th>2012-12-30</th>\n",
       "      <td>0.255833</td>\n",
       "      <td>0.483333</td>\n",
       "      <td>0.350754</td>\n",
       "      <td>1796</td>\n",
       "    </tr>\n",
       "    <tr>\n",
       "      <th>2012-12-31</th>\n",
       "      <td>0.215833</td>\n",
       "      <td>0.577500</td>\n",
       "      <td>0.154846</td>\n",
       "      <td>2729</td>\n",
       "    </tr>\n",
       "  </tbody>\n",
       "</table>\n",
       "<p>731 rows × 4 columns</p>\n",
       "</div>"
      ],
      "text/plain": [
       "                temp       hum  windspeed   cnt\n",
       "dteday                                         \n",
       "2011-01-01  0.344167  0.805833   0.160446   985\n",
       "2011-01-02  0.363478  0.696087   0.248539   801\n",
       "2011-01-03  0.196364  0.437273   0.248309  1349\n",
       "2011-01-04  0.200000  0.590435   0.160296  1562\n",
       "2011-01-05  0.226957  0.436957   0.186900  1600\n",
       "...              ...       ...        ...   ...\n",
       "2012-12-27  0.254167  0.652917   0.350133  2114\n",
       "2012-12-28  0.253333  0.590000   0.155471  3095\n",
       "2012-12-29  0.253333  0.752917   0.124383  1341\n",
       "2012-12-30  0.255833  0.483333   0.350754  1796\n",
       "2012-12-31  0.215833  0.577500   0.154846  2729\n",
       "\n",
       "[731 rows x 4 columns]"
      ]
     },
     "execution_count": 22,
     "metadata": {},
     "output_type": "execute_result"
    }
   ],
   "source": [
    "X_numerical"
   ]
  },
  {
   "cell_type": "code",
   "execution_count": 23,
   "id": "88e380e9",
   "metadata": {
    "execution": {
     "iopub.execute_input": "2022-03-30T18:05:57.801790Z",
     "iopub.status.busy": "2022-03-30T18:05:57.800795Z",
     "iopub.status.idle": "2022-03-30T18:06:01.114542Z",
     "shell.execute_reply": "2022-03-30T18:06:01.115043Z",
     "shell.execute_reply.started": "2022-03-28T17:09:20.649911Z"
    },
    "id": "WcZJ-lwGVgUq",
    "outputId": "110e8606-5860-4715-eb87-efed927f070f",
    "papermill": {
     "duration": 3.380298,
     "end_time": "2022-03-30T18:06:01.115207",
     "exception": false,
     "start_time": "2022-03-30T18:05:57.734909",
     "status": "completed"
    },
    "tags": []
   },
   "outputs": [
    {
     "data": {
      "text/plain": [
       "<seaborn.axisgrid.PairGrid at 0x7f21bed1b810>"
      ]
     },
     "execution_count": 23,
     "metadata": {},
     "output_type": "execute_result"
    },
    {
     "data": {
      "image/png": "[encoded data removed]",
      "text/plain": [
       "<Figure size 720x720 with 20 Axes>"
      ]
     },
     "metadata": {
      "needs_background": "light"
     },
     "output_type": "display_data"
    }
   ],
   "source": [
    "sns.pairplot(X_numerical)"
   ]
  },
  {
   "cell_type": "code",
   "execution_count": 24,
   "id": "a40c84e5",
   "metadata": {
    "execution": {
     "iopub.execute_input": "2022-03-30T18:06:01.261364Z",
     "iopub.status.busy": "2022-03-30T18:06:01.260707Z",
     "iopub.status.idle": "2022-03-30T18:06:01.533958Z",
     "shell.execute_reply": "2022-03-30T18:06:01.533417Z",
     "shell.execute_reply.started": "2022-03-28T17:09:24.094569Z"
    },
    "id": "sjlO2wW_Vs9P",
    "outputId": "d595460b-e587-4f5d-8ec5-c081fe6f608b",
    "papermill": {
     "duration": 0.347497,
     "end_time": "2022-03-30T18:06:01.534090",
     "exception": false,
     "start_time": "2022-03-30T18:06:01.186593",
     "status": "completed"
    },
    "tags": []
   },
   "outputs": [
    {
     "data": {
      "image/png": "[encoded data removed]",
      "text/plain": [
       "<Figure size 432x288 with 2 Axes>"
      ]
     },
     "metadata": {
      "needs_background": "light"
     },
     "output_type": "display_data"
    }
   ],
   "source": [
    "sns.heatmap(X_numerical.corr(), annot = True);"
   ]
  },
  {
   "cell_type": "markdown",
   "id": "f2a23fcd",
   "metadata": {
    "id": "53qDZFRn3-S1",
    "papermill": {
     "duration": 0.069888,
     "end_time": "2022-03-30T18:06:01.673752",
     "exception": false,
     "start_time": "2022-03-30T18:06:01.603864",
     "status": "completed"
    },
    "tags": []
   },
   "source": [
    "# Etapa 5: Tratamento das bases de dados"
   ]
  },
  {
   "cell_type": "code",
   "execution_count": 25,
   "id": "4d98a878",
   "metadata": {
    "execution": {
     "iopub.execute_input": "2022-03-30T18:06:01.821902Z",
     "iopub.status.busy": "2022-03-30T18:06:01.820936Z",
     "iopub.status.idle": "2022-03-30T18:06:01.823477Z",
     "shell.execute_reply": "2022-03-30T18:06:01.822918Z",
     "shell.execute_reply.started": "2022-03-28T17:09:24.384187Z"
    },
    "id": "de6FZGfxWdp0",
    "papermill": {
     "duration": 0.079212,
     "end_time": "2022-03-30T18:06:01.823610",
     "exception": false,
     "start_time": "2022-03-30T18:06:01.744398",
     "status": "completed"
    },
    "tags": []
   },
   "outputs": [],
   "source": [
    "X_cat = bike[['season', 'yr', 'mnth', 'holiday', 'weekday', 'workingday', 'weathersit']]"
   ]
  },
  {
   "cell_type": "markdown",
   "id": "1a898e04",
   "metadata": {
    "papermill": {
     "duration": 0.069874,
     "end_time": "2022-03-30T18:06:01.964620",
     "exception": false,
     "start_time": "2022-03-30T18:06:01.894746",
     "status": "completed"
    },
    "tags": []
   },
   "source": [
    "Iremos realizar um procedimento de \"Encode\" para que o nosso modelo de regressão linear usando uma rede neural possa conseguir identificar essas variáveis qualitativas como dia da semana, mês e feriado. Basimente a função \"OneHotEnconder\" transformar essas variáveis em columas em que 1 representa positivo e 0 representa negativo ou ausente."
   ]
  },
  {
   "cell_type": "code",
   "execution_count": 26,
   "id": "a9b858c8",
   "metadata": {
    "execution": {
     "iopub.execute_input": "2022-03-30T18:06:02.113883Z",
     "iopub.status.busy": "2022-03-30T18:06:02.112982Z",
     "iopub.status.idle": "2022-03-30T18:06:02.122957Z",
     "shell.execute_reply": "2022-03-30T18:06:02.123344Z",
     "shell.execute_reply.started": "2022-03-28T17:09:24.391202Z"
    },
    "id": "XprUtp5HWo64",
    "outputId": "d9022401-5901-477f-87f9-41a61b24aa8a",
    "papermill": {
     "duration": 0.088763,
     "end_time": "2022-03-30T18:06:02.123504",
     "exception": false,
     "start_time": "2022-03-30T18:06:02.034741",
     "status": "completed"
    },
    "tags": []
   },
   "outputs": [
    {
     "data": {
      "text/html": [
       "<div>\n",
       "<style scoped>\n",
       "    .dataframe tbody tr th:only-of-type {\n",
       "        vertical-align: middle;\n",
       "    }\n",
       "\n",
       "    .dataframe tbody tr th {\n",
       "        vertical-align: top;\n",
       "    }\n",
       "\n",
       "    .dataframe thead th {\n",
       "        text-align: right;\n",
       "    }\n",
       "</style>\n",
       "<table border=\"1\" class=\"dataframe\">\n",
       "  <thead>\n",
       "    <tr style=\"text-align: right;\">\n",
       "      <th></th>\n",
       "      <th>season</th>\n",
       "      <th>yr</th>\n",
       "      <th>mnth</th>\n",
       "      <th>holiday</th>\n",
       "      <th>weekday</th>\n",
       "      <th>workingday</th>\n",
       "      <th>weathersit</th>\n",
       "    </tr>\n",
       "    <tr>\n",
       "      <th>dteday</th>\n",
       "      <th></th>\n",
       "      <th></th>\n",
       "      <th></th>\n",
       "      <th></th>\n",
       "      <th></th>\n",
       "      <th></th>\n",
       "      <th></th>\n",
       "    </tr>\n",
       "  </thead>\n",
       "  <tbody>\n",
       "    <tr>\n",
       "      <th>2011-01-01</th>\n",
       "      <td>1</td>\n",
       "      <td>0</td>\n",
       "      <td>1</td>\n",
       "      <td>0</td>\n",
       "      <td>6</td>\n",
       "      <td>0</td>\n",
       "      <td>2</td>\n",
       "    </tr>\n",
       "    <tr>\n",
       "      <th>2011-01-02</th>\n",
       "      <td>1</td>\n",
       "      <td>0</td>\n",
       "      <td>1</td>\n",
       "      <td>0</td>\n",
       "      <td>0</td>\n",
       "      <td>0</td>\n",
       "      <td>2</td>\n",
       "    </tr>\n",
       "    <tr>\n",
       "      <th>2011-01-03</th>\n",
       "      <td>1</td>\n",
       "      <td>0</td>\n",
       "      <td>1</td>\n",
       "      <td>0</td>\n",
       "      <td>1</td>\n",
       "      <td>1</td>\n",
       "      <td>1</td>\n",
       "    </tr>\n",
       "    <tr>\n",
       "      <th>2011-01-04</th>\n",
       "      <td>1</td>\n",
       "      <td>0</td>\n",
       "      <td>1</td>\n",
       "      <td>0</td>\n",
       "      <td>2</td>\n",
       "      <td>1</td>\n",
       "      <td>1</td>\n",
       "    </tr>\n",
       "    <tr>\n",
       "      <th>2011-01-05</th>\n",
       "      <td>1</td>\n",
       "      <td>0</td>\n",
       "      <td>1</td>\n",
       "      <td>0</td>\n",
       "      <td>3</td>\n",
       "      <td>1</td>\n",
       "      <td>1</td>\n",
       "    </tr>\n",
       "  </tbody>\n",
       "</table>\n",
       "</div>"
      ],
      "text/plain": [
       "            season  yr  mnth  holiday  weekday  workingday  weathersit\n",
       "dteday                                                                \n",
       "2011-01-01       1   0     1        0        6           0           2\n",
       "2011-01-02       1   0     1        0        0           0           2\n",
       "2011-01-03       1   0     1        0        1           1           1\n",
       "2011-01-04       1   0     1        0        2           1           1\n",
       "2011-01-05       1   0     1        0        3           1           1"
      ]
     },
     "execution_count": 26,
     "metadata": {},
     "output_type": "execute_result"
    }
   ],
   "source": [
    "X_cat.head()"
   ]
  },
  {
   "cell_type": "code",
   "execution_count": 27,
   "id": "681d0f7f",
   "metadata": {
    "execution": {
     "iopub.execute_input": "2022-03-30T18:06:02.271846Z",
     "iopub.status.busy": "2022-03-30T18:06:02.271134Z",
     "iopub.status.idle": "2022-03-30T18:06:02.402307Z",
     "shell.execute_reply": "2022-03-30T18:06:02.401771Z",
     "shell.execute_reply.started": "2022-03-28T17:09:24.412018Z"
    },
    "id": "QVDVK9iQW1JQ",
    "papermill": {
     "duration": 0.207403,
     "end_time": "2022-03-30T18:06:02.402444",
     "exception": false,
     "start_time": "2022-03-30T18:06:02.195041",
     "status": "completed"
    },
    "tags": []
   },
   "outputs": [],
   "source": [
    "from sklearn.preprocessing import OneHotEncoder\n",
    "onehotencoder = OneHotEncoder()\n",
    "X_cat = onehotencoder.fit_transform(X_cat).toarray()"
   ]
  },
  {
   "cell_type": "code",
   "execution_count": 28,
   "id": "1dcafa76",
   "metadata": {
    "execution": {
     "iopub.execute_input": "2022-03-30T18:06:02.551975Z",
     "iopub.status.busy": "2022-03-30T18:06:02.551403Z",
     "iopub.status.idle": "2022-03-30T18:06:02.556387Z",
     "shell.execute_reply": "2022-03-30T18:06:02.556928Z",
     "shell.execute_reply.started": "2022-03-28T17:09:24.427372Z"
    },
    "id": "FMrhIdcCXYoy",
    "outputId": "74e4d369-c866-4d51-eb7c-f2f10c4cee68",
    "papermill": {
     "duration": 0.083071,
     "end_time": "2022-03-30T18:06:02.557085",
     "exception": false,
     "start_time": "2022-03-30T18:06:02.474014",
     "status": "completed"
    },
    "tags": []
   },
   "outputs": [
    {
     "data": {
      "text/plain": [
       "array([[1., 0., 0., ..., 0., 1., 0.],\n",
       "       [1., 0., 0., ..., 0., 1., 0.],\n",
       "       [1., 0., 0., ..., 1., 0., 0.],\n",
       "       ...,\n",
       "       [1., 0., 0., ..., 0., 1., 0.],\n",
       "       [1., 0., 0., ..., 1., 0., 0.],\n",
       "       [1., 0., 0., ..., 0., 1., 0.]])"
      ]
     },
     "metadata": {},
     "output_type": "display_data"
    }
   ],
   "source": [
    "display(X_cat)"
   ]
  },
  {
   "cell_type": "code",
   "execution_count": 29,
   "id": "cc6fdb36",
   "metadata": {
    "execution": {
     "iopub.execute_input": "2022-03-30T18:06:02.703231Z",
     "iopub.status.busy": "2022-03-30T18:06:02.702631Z",
     "iopub.status.idle": "2022-03-30T18:06:02.707720Z",
     "shell.execute_reply": "2022-03-30T18:06:02.708233Z",
     "shell.execute_reply.started": "2022-03-28T17:09:24.437661Z"
    },
    "id": "1k2HM2yPXa3f",
    "outputId": "6afa7944-a020-4652-ac64-8cbfcfe54d1d",
    "papermill": {
     "duration": 0.078657,
     "end_time": "2022-03-30T18:06:02.708387",
     "exception": false,
     "start_time": "2022-03-30T18:06:02.629730",
     "status": "completed"
    },
    "tags": []
   },
   "outputs": [
    {
     "data": {
      "text/plain": [
       "(731, 32)"
      ]
     },
     "metadata": {},
     "output_type": "display_data"
    }
   ],
   "source": [
    "display(X_cat.shape)"
   ]
  },
  {
   "cell_type": "code",
   "execution_count": 30,
   "id": "97b8e163",
   "metadata": {
    "execution": {
     "iopub.execute_input": "2022-03-30T18:06:02.859436Z",
     "iopub.status.busy": "2022-03-30T18:06:02.858445Z",
     "iopub.status.idle": "2022-03-30T18:06:02.862931Z",
     "shell.execute_reply": "2022-03-30T18:06:02.863515Z",
     "shell.execute_reply.started": "2022-03-28T17:09:24.449713Z"
    },
    "id": "-3xBcWYlXgTu",
    "papermill": {
     "duration": 0.079296,
     "end_time": "2022-03-30T18:06:02.863850",
     "exception": false,
     "start_time": "2022-03-30T18:06:02.784554",
     "status": "completed"
    },
    "tags": []
   },
   "outputs": [],
   "source": [
    "X_cat = pd.DataFrame(X_cat)"
   ]
  },
  {
   "cell_type": "code",
   "execution_count": 31,
   "id": "3d57e482",
   "metadata": {
    "execution": {
     "iopub.execute_input": "2022-03-30T18:06:03.020143Z",
     "iopub.status.busy": "2022-03-30T18:06:03.019181Z",
     "iopub.status.idle": "2022-03-30T18:06:03.037689Z",
     "shell.execute_reply": "2022-03-30T18:06:03.038192Z",
     "shell.execute_reply.started": "2022-03-28T17:09:24.463695Z"
    },
    "id": "DFqYWQlYXkPV",
    "outputId": "22c9d3a5-16d9-4200-bd3b-1b9ea1167302",
    "papermill": {
     "duration": 0.102255,
     "end_time": "2022-03-30T18:06:03.038348",
     "exception": false,
     "start_time": "2022-03-30T18:06:02.936093",
     "status": "completed"
    },
    "tags": []
   },
   "outputs": [
    {
     "data": {
      "text/html": [
       "<div>\n",
       "<style scoped>\n",
       "    .dataframe tbody tr th:only-of-type {\n",
       "        vertical-align: middle;\n",
       "    }\n",
       "\n",
       "    .dataframe tbody tr th {\n",
       "        vertical-align: top;\n",
       "    }\n",
       "\n",
       "    .dataframe thead th {\n",
       "        text-align: right;\n",
       "    }\n",
       "</style>\n",
       "<table border=\"1\" class=\"dataframe\">\n",
       "  <thead>\n",
       "    <tr style=\"text-align: right;\">\n",
       "      <th></th>\n",
       "      <th>0</th>\n",
       "      <th>1</th>\n",
       "      <th>2</th>\n",
       "      <th>3</th>\n",
       "      <th>4</th>\n",
       "      <th>5</th>\n",
       "      <th>6</th>\n",
       "      <th>7</th>\n",
       "      <th>8</th>\n",
       "      <th>9</th>\n",
       "      <th>...</th>\n",
       "      <th>22</th>\n",
       "      <th>23</th>\n",
       "      <th>24</th>\n",
       "      <th>25</th>\n",
       "      <th>26</th>\n",
       "      <th>27</th>\n",
       "      <th>28</th>\n",
       "      <th>29</th>\n",
       "      <th>30</th>\n",
       "      <th>31</th>\n",
       "    </tr>\n",
       "  </thead>\n",
       "  <tbody>\n",
       "    <tr>\n",
       "      <th>0</th>\n",
       "      <td>1.0</td>\n",
       "      <td>0.0</td>\n",
       "      <td>0.0</td>\n",
       "      <td>0.0</td>\n",
       "      <td>1.0</td>\n",
       "      <td>0.0</td>\n",
       "      <td>1.0</td>\n",
       "      <td>0.0</td>\n",
       "      <td>0.0</td>\n",
       "      <td>0.0</td>\n",
       "      <td>...</td>\n",
       "      <td>0.0</td>\n",
       "      <td>0.0</td>\n",
       "      <td>0.0</td>\n",
       "      <td>0.0</td>\n",
       "      <td>1.0</td>\n",
       "      <td>1.0</td>\n",
       "      <td>0.0</td>\n",
       "      <td>0.0</td>\n",
       "      <td>1.0</td>\n",
       "      <td>0.0</td>\n",
       "    </tr>\n",
       "    <tr>\n",
       "      <th>1</th>\n",
       "      <td>1.0</td>\n",
       "      <td>0.0</td>\n",
       "      <td>0.0</td>\n",
       "      <td>0.0</td>\n",
       "      <td>1.0</td>\n",
       "      <td>0.0</td>\n",
       "      <td>1.0</td>\n",
       "      <td>0.0</td>\n",
       "      <td>0.0</td>\n",
       "      <td>0.0</td>\n",
       "      <td>...</td>\n",
       "      <td>0.0</td>\n",
       "      <td>0.0</td>\n",
       "      <td>0.0</td>\n",
       "      <td>0.0</td>\n",
       "      <td>0.0</td>\n",
       "      <td>1.0</td>\n",
       "      <td>0.0</td>\n",
       "      <td>0.0</td>\n",
       "      <td>1.0</td>\n",
       "      <td>0.0</td>\n",
       "    </tr>\n",
       "    <tr>\n",
       "      <th>2</th>\n",
       "      <td>1.0</td>\n",
       "      <td>0.0</td>\n",
       "      <td>0.0</td>\n",
       "      <td>0.0</td>\n",
       "      <td>1.0</td>\n",
       "      <td>0.0</td>\n",
       "      <td>1.0</td>\n",
       "      <td>0.0</td>\n",
       "      <td>0.0</td>\n",
       "      <td>0.0</td>\n",
       "      <td>...</td>\n",
       "      <td>0.0</td>\n",
       "      <td>0.0</td>\n",
       "      <td>0.0</td>\n",
       "      <td>0.0</td>\n",
       "      <td>0.0</td>\n",
       "      <td>0.0</td>\n",
       "      <td>1.0</td>\n",
       "      <td>1.0</td>\n",
       "      <td>0.0</td>\n",
       "      <td>0.0</td>\n",
       "    </tr>\n",
       "    <tr>\n",
       "      <th>3</th>\n",
       "      <td>1.0</td>\n",
       "      <td>0.0</td>\n",
       "      <td>0.0</td>\n",
       "      <td>0.0</td>\n",
       "      <td>1.0</td>\n",
       "      <td>0.0</td>\n",
       "      <td>1.0</td>\n",
       "      <td>0.0</td>\n",
       "      <td>0.0</td>\n",
       "      <td>0.0</td>\n",
       "      <td>...</td>\n",
       "      <td>1.0</td>\n",
       "      <td>0.0</td>\n",
       "      <td>0.0</td>\n",
       "      <td>0.0</td>\n",
       "      <td>0.0</td>\n",
       "      <td>0.0</td>\n",
       "      <td>1.0</td>\n",
       "      <td>1.0</td>\n",
       "      <td>0.0</td>\n",
       "      <td>0.0</td>\n",
       "    </tr>\n",
       "    <tr>\n",
       "      <th>4</th>\n",
       "      <td>1.0</td>\n",
       "      <td>0.0</td>\n",
       "      <td>0.0</td>\n",
       "      <td>0.0</td>\n",
       "      <td>1.0</td>\n",
       "      <td>0.0</td>\n",
       "      <td>1.0</td>\n",
       "      <td>0.0</td>\n",
       "      <td>0.0</td>\n",
       "      <td>0.0</td>\n",
       "      <td>...</td>\n",
       "      <td>0.0</td>\n",
       "      <td>1.0</td>\n",
       "      <td>0.0</td>\n",
       "      <td>0.0</td>\n",
       "      <td>0.0</td>\n",
       "      <td>0.0</td>\n",
       "      <td>1.0</td>\n",
       "      <td>1.0</td>\n",
       "      <td>0.0</td>\n",
       "      <td>0.0</td>\n",
       "    </tr>\n",
       "  </tbody>\n",
       "</table>\n",
       "<p>5 rows × 32 columns</p>\n",
       "</div>"
      ],
      "text/plain": [
       "    0    1    2    3    4    5    6    7    8    9   ...   22   23   24   25  \\\n",
       "0  1.0  0.0  0.0  0.0  1.0  0.0  1.0  0.0  0.0  0.0  ...  0.0  0.0  0.0  0.0   \n",
       "1  1.0  0.0  0.0  0.0  1.0  0.0  1.0  0.0  0.0  0.0  ...  0.0  0.0  0.0  0.0   \n",
       "2  1.0  0.0  0.0  0.0  1.0  0.0  1.0  0.0  0.0  0.0  ...  0.0  0.0  0.0  0.0   \n",
       "3  1.0  0.0  0.0  0.0  1.0  0.0  1.0  0.0  0.0  0.0  ...  1.0  0.0  0.0  0.0   \n",
       "4  1.0  0.0  0.0  0.0  1.0  0.0  1.0  0.0  0.0  0.0  ...  0.0  1.0  0.0  0.0   \n",
       "\n",
       "    26   27   28   29   30   31  \n",
       "0  1.0  1.0  0.0  0.0  1.0  0.0  \n",
       "1  0.0  1.0  0.0  0.0  1.0  0.0  \n",
       "2  0.0  0.0  1.0  1.0  0.0  0.0  \n",
       "3  0.0  0.0  1.0  1.0  0.0  0.0  \n",
       "4  0.0  0.0  1.0  1.0  0.0  0.0  \n",
       "\n",
       "[5 rows x 32 columns]"
      ]
     },
     "execution_count": 31,
     "metadata": {},
     "output_type": "execute_result"
    }
   ],
   "source": [
    "X_cat.head()"
   ]
  },
  {
   "cell_type": "code",
   "execution_count": 32,
   "id": "baae3863",
   "metadata": {
    "execution": {
     "iopub.execute_input": "2022-03-30T18:06:03.190223Z",
     "iopub.status.busy": "2022-03-30T18:06:03.189228Z",
     "iopub.status.idle": "2022-03-30T18:06:03.199587Z",
     "shell.execute_reply": "2022-03-30T18:06:03.200124Z",
     "shell.execute_reply.started": "2022-03-28T17:09:24.508598Z"
    },
    "id": "rcGMEKCSXqGs",
    "outputId": "39e2a434-9b7a-4bbe-8000-b931c8ca8415",
    "papermill": {
     "duration": 0.08704,
     "end_time": "2022-03-30T18:06:03.200288",
     "exception": false,
     "start_time": "2022-03-30T18:06:03.113248",
     "status": "completed"
    },
    "tags": []
   },
   "outputs": [
    {
     "data": {
      "text/html": [
       "<div>\n",
       "<style scoped>\n",
       "    .dataframe tbody tr th:only-of-type {\n",
       "        vertical-align: middle;\n",
       "    }\n",
       "\n",
       "    .dataframe tbody tr th {\n",
       "        vertical-align: top;\n",
       "    }\n",
       "\n",
       "    .dataframe thead th {\n",
       "        text-align: right;\n",
       "    }\n",
       "</style>\n",
       "<table border=\"1\" class=\"dataframe\">\n",
       "  <thead>\n",
       "    <tr style=\"text-align: right;\">\n",
       "      <th></th>\n",
       "      <th>temp</th>\n",
       "      <th>hum</th>\n",
       "      <th>windspeed</th>\n",
       "      <th>cnt</th>\n",
       "    </tr>\n",
       "    <tr>\n",
       "      <th>dteday</th>\n",
       "      <th></th>\n",
       "      <th></th>\n",
       "      <th></th>\n",
       "      <th></th>\n",
       "    </tr>\n",
       "  </thead>\n",
       "  <tbody>\n",
       "    <tr>\n",
       "      <th>2011-01-01</th>\n",
       "      <td>0.344167</td>\n",
       "      <td>0.805833</td>\n",
       "      <td>0.160446</td>\n",
       "      <td>985</td>\n",
       "    </tr>\n",
       "    <tr>\n",
       "      <th>2011-01-02</th>\n",
       "      <td>0.363478</td>\n",
       "      <td>0.696087</td>\n",
       "      <td>0.248539</td>\n",
       "      <td>801</td>\n",
       "    </tr>\n",
       "    <tr>\n",
       "      <th>2011-01-03</th>\n",
       "      <td>0.196364</td>\n",
       "      <td>0.437273</td>\n",
       "      <td>0.248309</td>\n",
       "      <td>1349</td>\n",
       "    </tr>\n",
       "    <tr>\n",
       "      <th>2011-01-04</th>\n",
       "      <td>0.200000</td>\n",
       "      <td>0.590435</td>\n",
       "      <td>0.160296</td>\n",
       "      <td>1562</td>\n",
       "    </tr>\n",
       "    <tr>\n",
       "      <th>2011-01-05</th>\n",
       "      <td>0.226957</td>\n",
       "      <td>0.436957</td>\n",
       "      <td>0.186900</td>\n",
       "      <td>1600</td>\n",
       "    </tr>\n",
       "  </tbody>\n",
       "</table>\n",
       "</div>"
      ],
      "text/plain": [
       "                temp       hum  windspeed   cnt\n",
       "dteday                                         \n",
       "2011-01-01  0.344167  0.805833   0.160446   985\n",
       "2011-01-02  0.363478  0.696087   0.248539   801\n",
       "2011-01-03  0.196364  0.437273   0.248309  1349\n",
       "2011-01-04  0.200000  0.590435   0.160296  1562\n",
       "2011-01-05  0.226957  0.436957   0.186900  1600"
      ]
     },
     "execution_count": 32,
     "metadata": {},
     "output_type": "execute_result"
    }
   ],
   "source": [
    "X_numerical.head()"
   ]
  },
  {
   "cell_type": "code",
   "execution_count": 33,
   "id": "88c5d897",
   "metadata": {
    "execution": {
     "iopub.execute_input": "2022-03-30T18:06:03.350884Z",
     "iopub.status.busy": "2022-03-30T18:06:03.349944Z",
     "iopub.status.idle": "2022-03-30T18:06:03.354506Z",
     "shell.execute_reply": "2022-03-30T18:06:03.355068Z",
     "shell.execute_reply.started": "2022-03-28T17:09:24.521493Z"
    },
    "id": "M99pTY3bXyOU",
    "papermill": {
     "duration": 0.082242,
     "end_time": "2022-03-30T18:06:03.355237",
     "exception": false,
     "start_time": "2022-03-30T18:06:03.272995",
     "status": "completed"
    },
    "tags": []
   },
   "outputs": [],
   "source": [
    "X_numerical = X_numerical.reset_index()"
   ]
  },
  {
   "cell_type": "code",
   "execution_count": 34,
   "id": "c72e7c53",
   "metadata": {
    "execution": {
     "iopub.execute_input": "2022-03-30T18:06:03.506964Z",
     "iopub.status.busy": "2022-03-30T18:06:03.506001Z",
     "iopub.status.idle": "2022-03-30T18:06:03.516386Z",
     "shell.execute_reply": "2022-03-30T18:06:03.516882Z",
     "shell.execute_reply.started": "2022-03-28T17:09:24.53632Z"
    },
    "id": "sNPEiP_sX267",
    "outputId": "d74e3875-9b67-4909-d879-74b0b6c1d3d5",
    "papermill": {
     "duration": 0.088594,
     "end_time": "2022-03-30T18:06:03.517045",
     "exception": false,
     "start_time": "2022-03-30T18:06:03.428451",
     "status": "completed"
    },
    "tags": []
   },
   "outputs": [
    {
     "data": {
      "text/html": [
       "<div>\n",
       "<style scoped>\n",
       "    .dataframe tbody tr th:only-of-type {\n",
       "        vertical-align: middle;\n",
       "    }\n",
       "\n",
       "    .dataframe tbody tr th {\n",
       "        vertical-align: top;\n",
       "    }\n",
       "\n",
       "    .dataframe thead th {\n",
       "        text-align: right;\n",
       "    }\n",
       "</style>\n",
       "<table border=\"1\" class=\"dataframe\">\n",
       "  <thead>\n",
       "    <tr style=\"text-align: right;\">\n",
       "      <th></th>\n",
       "      <th>dteday</th>\n",
       "      <th>temp</th>\n",
       "      <th>hum</th>\n",
       "      <th>windspeed</th>\n",
       "      <th>cnt</th>\n",
       "    </tr>\n",
       "  </thead>\n",
       "  <tbody>\n",
       "    <tr>\n",
       "      <th>0</th>\n",
       "      <td>2011-01-01</td>\n",
       "      <td>0.344167</td>\n",
       "      <td>0.805833</td>\n",
       "      <td>0.160446</td>\n",
       "      <td>985</td>\n",
       "    </tr>\n",
       "    <tr>\n",
       "      <th>1</th>\n",
       "      <td>2011-01-02</td>\n",
       "      <td>0.363478</td>\n",
       "      <td>0.696087</td>\n",
       "      <td>0.248539</td>\n",
       "      <td>801</td>\n",
       "    </tr>\n",
       "    <tr>\n",
       "      <th>2</th>\n",
       "      <td>2011-01-03</td>\n",
       "      <td>0.196364</td>\n",
       "      <td>0.437273</td>\n",
       "      <td>0.248309</td>\n",
       "      <td>1349</td>\n",
       "    </tr>\n",
       "    <tr>\n",
       "      <th>3</th>\n",
       "      <td>2011-01-04</td>\n",
       "      <td>0.200000</td>\n",
       "      <td>0.590435</td>\n",
       "      <td>0.160296</td>\n",
       "      <td>1562</td>\n",
       "    </tr>\n",
       "    <tr>\n",
       "      <th>4</th>\n",
       "      <td>2011-01-05</td>\n",
       "      <td>0.226957</td>\n",
       "      <td>0.436957</td>\n",
       "      <td>0.186900</td>\n",
       "      <td>1600</td>\n",
       "    </tr>\n",
       "  </tbody>\n",
       "</table>\n",
       "</div>"
      ],
      "text/plain": [
       "      dteday      temp       hum  windspeed   cnt\n",
       "0 2011-01-01  0.344167  0.805833   0.160446   985\n",
       "1 2011-01-02  0.363478  0.696087   0.248539   801\n",
       "2 2011-01-03  0.196364  0.437273   0.248309  1349\n",
       "3 2011-01-04  0.200000  0.590435   0.160296  1562\n",
       "4 2011-01-05  0.226957  0.436957   0.186900  1600"
      ]
     },
     "execution_count": 34,
     "metadata": {},
     "output_type": "execute_result"
    }
   ],
   "source": [
    "X_numerical.head()"
   ]
  },
  {
   "cell_type": "code",
   "execution_count": 35,
   "id": "cbf43c26",
   "metadata": {
    "execution": {
     "iopub.execute_input": "2022-03-30T18:06:03.666045Z",
     "iopub.status.busy": "2022-03-30T18:06:03.665436Z",
     "iopub.status.idle": "2022-03-30T18:06:03.669906Z",
     "shell.execute_reply": "2022-03-30T18:06:03.670428Z",
     "shell.execute_reply.started": "2022-03-28T17:09:24.555275Z"
    },
    "id": "_I4Ei-brX7Pa",
    "papermill": {
     "duration": 0.080765,
     "end_time": "2022-03-30T18:06:03.670800",
     "exception": false,
     "start_time": "2022-03-30T18:06:03.590035",
     "status": "completed"
    },
    "tags": []
   },
   "outputs": [],
   "source": [
    "X_all = pd.concat([X_cat, X_numerical], axis = 1)"
   ]
  },
  {
   "cell_type": "code",
   "execution_count": 36,
   "id": "b4c1af53",
   "metadata": {
    "execution": {
     "iopub.execute_input": "2022-03-30T18:06:03.819375Z",
     "iopub.status.busy": "2022-03-30T18:06:03.818776Z",
     "iopub.status.idle": "2022-03-30T18:06:03.844812Z",
     "shell.execute_reply": "2022-03-30T18:06:03.845285Z",
     "shell.execute_reply.started": "2022-03-28T17:09:24.567812Z"
    },
    "id": "ftImhGQaYDKS",
    "outputId": "0b845c9a-6d10-4fed-c3f7-2abeb3274a81",
    "papermill": {
     "duration": 0.10191,
     "end_time": "2022-03-30T18:06:03.845443",
     "exception": false,
     "start_time": "2022-03-30T18:06:03.743533",
     "status": "completed"
    },
    "tags": []
   },
   "outputs": [
    {
     "data": {
      "text/html": [
       "<div>\n",
       "<style scoped>\n",
       "    .dataframe tbody tr th:only-of-type {\n",
       "        vertical-align: middle;\n",
       "    }\n",
       "\n",
       "    .dataframe tbody tr th {\n",
       "        vertical-align: top;\n",
       "    }\n",
       "\n",
       "    .dataframe thead th {\n",
       "        text-align: right;\n",
       "    }\n",
       "</style>\n",
       "<table border=\"1\" class=\"dataframe\">\n",
       "  <thead>\n",
       "    <tr style=\"text-align: right;\">\n",
       "      <th></th>\n",
       "      <th>0</th>\n",
       "      <th>1</th>\n",
       "      <th>2</th>\n",
       "      <th>3</th>\n",
       "      <th>4</th>\n",
       "      <th>5</th>\n",
       "      <th>6</th>\n",
       "      <th>7</th>\n",
       "      <th>8</th>\n",
       "      <th>9</th>\n",
       "      <th>...</th>\n",
       "      <th>27</th>\n",
       "      <th>28</th>\n",
       "      <th>29</th>\n",
       "      <th>30</th>\n",
       "      <th>31</th>\n",
       "      <th>dteday</th>\n",
       "      <th>temp</th>\n",
       "      <th>hum</th>\n",
       "      <th>windspeed</th>\n",
       "      <th>cnt</th>\n",
       "    </tr>\n",
       "  </thead>\n",
       "  <tbody>\n",
       "    <tr>\n",
       "      <th>0</th>\n",
       "      <td>1.0</td>\n",
       "      <td>0.0</td>\n",
       "      <td>0.0</td>\n",
       "      <td>0.0</td>\n",
       "      <td>1.0</td>\n",
       "      <td>0.0</td>\n",
       "      <td>1.0</td>\n",
       "      <td>0.0</td>\n",
       "      <td>0.0</td>\n",
       "      <td>0.0</td>\n",
       "      <td>...</td>\n",
       "      <td>1.0</td>\n",
       "      <td>0.0</td>\n",
       "      <td>0.0</td>\n",
       "      <td>1.0</td>\n",
       "      <td>0.0</td>\n",
       "      <td>2011-01-01</td>\n",
       "      <td>0.344167</td>\n",
       "      <td>0.805833</td>\n",
       "      <td>0.160446</td>\n",
       "      <td>985</td>\n",
       "    </tr>\n",
       "    <tr>\n",
       "      <th>1</th>\n",
       "      <td>1.0</td>\n",
       "      <td>0.0</td>\n",
       "      <td>0.0</td>\n",
       "      <td>0.0</td>\n",
       "      <td>1.0</td>\n",
       "      <td>0.0</td>\n",
       "      <td>1.0</td>\n",
       "      <td>0.0</td>\n",
       "      <td>0.0</td>\n",
       "      <td>0.0</td>\n",
       "      <td>...</td>\n",
       "      <td>1.0</td>\n",
       "      <td>0.0</td>\n",
       "      <td>0.0</td>\n",
       "      <td>1.0</td>\n",
       "      <td>0.0</td>\n",
       "      <td>2011-01-02</td>\n",
       "      <td>0.363478</td>\n",
       "      <td>0.696087</td>\n",
       "      <td>0.248539</td>\n",
       "      <td>801</td>\n",
       "    </tr>\n",
       "    <tr>\n",
       "      <th>2</th>\n",
       "      <td>1.0</td>\n",
       "      <td>0.0</td>\n",
       "      <td>0.0</td>\n",
       "      <td>0.0</td>\n",
       "      <td>1.0</td>\n",
       "      <td>0.0</td>\n",
       "      <td>1.0</td>\n",
       "      <td>0.0</td>\n",
       "      <td>0.0</td>\n",
       "      <td>0.0</td>\n",
       "      <td>...</td>\n",
       "      <td>0.0</td>\n",
       "      <td>1.0</td>\n",
       "      <td>1.0</td>\n",
       "      <td>0.0</td>\n",
       "      <td>0.0</td>\n",
       "      <td>2011-01-03</td>\n",
       "      <td>0.196364</td>\n",
       "      <td>0.437273</td>\n",
       "      <td>0.248309</td>\n",
       "      <td>1349</td>\n",
       "    </tr>\n",
       "    <tr>\n",
       "      <th>3</th>\n",
       "      <td>1.0</td>\n",
       "      <td>0.0</td>\n",
       "      <td>0.0</td>\n",
       "      <td>0.0</td>\n",
       "      <td>1.0</td>\n",
       "      <td>0.0</td>\n",
       "      <td>1.0</td>\n",
       "      <td>0.0</td>\n",
       "      <td>0.0</td>\n",
       "      <td>0.0</td>\n",
       "      <td>...</td>\n",
       "      <td>0.0</td>\n",
       "      <td>1.0</td>\n",
       "      <td>1.0</td>\n",
       "      <td>0.0</td>\n",
       "      <td>0.0</td>\n",
       "      <td>2011-01-04</td>\n",
       "      <td>0.200000</td>\n",
       "      <td>0.590435</td>\n",
       "      <td>0.160296</td>\n",
       "      <td>1562</td>\n",
       "    </tr>\n",
       "    <tr>\n",
       "      <th>4</th>\n",
       "      <td>1.0</td>\n",
       "      <td>0.0</td>\n",
       "      <td>0.0</td>\n",
       "      <td>0.0</td>\n",
       "      <td>1.0</td>\n",
       "      <td>0.0</td>\n",
       "      <td>1.0</td>\n",
       "      <td>0.0</td>\n",
       "      <td>0.0</td>\n",
       "      <td>0.0</td>\n",
       "      <td>...</td>\n",
       "      <td>0.0</td>\n",
       "      <td>1.0</td>\n",
       "      <td>1.0</td>\n",
       "      <td>0.0</td>\n",
       "      <td>0.0</td>\n",
       "      <td>2011-01-05</td>\n",
       "      <td>0.226957</td>\n",
       "      <td>0.436957</td>\n",
       "      <td>0.186900</td>\n",
       "      <td>1600</td>\n",
       "    </tr>\n",
       "  </tbody>\n",
       "</table>\n",
       "<p>5 rows × 37 columns</p>\n",
       "</div>"
      ],
      "text/plain": [
       "     0    1    2    3    4    5    6    7    8    9  ...   27   28   29   30  \\\n",
       "0  1.0  0.0  0.0  0.0  1.0  0.0  1.0  0.0  0.0  0.0  ...  1.0  0.0  0.0  1.0   \n",
       "1  1.0  0.0  0.0  0.0  1.0  0.0  1.0  0.0  0.0  0.0  ...  1.0  0.0  0.0  1.0   \n",
       "2  1.0  0.0  0.0  0.0  1.0  0.0  1.0  0.0  0.0  0.0  ...  0.0  1.0  1.0  0.0   \n",
       "3  1.0  0.0  0.0  0.0  1.0  0.0  1.0  0.0  0.0  0.0  ...  0.0  1.0  1.0  0.0   \n",
       "4  1.0  0.0  0.0  0.0  1.0  0.0  1.0  0.0  0.0  0.0  ...  0.0  1.0  1.0  0.0   \n",
       "\n",
       "    31     dteday      temp       hum  windspeed   cnt  \n",
       "0  0.0 2011-01-01  0.344167  0.805833   0.160446   985  \n",
       "1  0.0 2011-01-02  0.363478  0.696087   0.248539   801  \n",
       "2  0.0 2011-01-03  0.196364  0.437273   0.248309  1349  \n",
       "3  0.0 2011-01-04  0.200000  0.590435   0.160296  1562  \n",
       "4  0.0 2011-01-05  0.226957  0.436957   0.186900  1600  \n",
       "\n",
       "[5 rows x 37 columns]"
      ]
     },
     "execution_count": 36,
     "metadata": {},
     "output_type": "execute_result"
    }
   ],
   "source": [
    "X_all.head()"
   ]
  },
  {
   "cell_type": "code",
   "execution_count": 37,
   "id": "05965907",
   "metadata": {
    "execution": {
     "iopub.execute_input": "2022-03-30T18:06:04.000951Z",
     "iopub.status.busy": "2022-03-30T18:06:03.998846Z",
     "iopub.status.idle": "2022-03-30T18:06:04.004187Z",
     "shell.execute_reply": "2022-03-30T18:06:04.004728Z",
     "shell.execute_reply.started": "2022-03-28T17:09:24.612708Z"
    },
    "id": "cu0xG-kAYHhd",
    "papermill": {
     "duration": 0.084011,
     "end_time": "2022-03-30T18:06:04.004895",
     "exception": false,
     "start_time": "2022-03-30T18:06:03.920884",
     "status": "completed"
    },
    "tags": []
   },
   "outputs": [],
   "source": [
    "X_all = X_all.drop(labels=['dteday'], axis = 1)"
   ]
  },
  {
   "cell_type": "code",
   "execution_count": 38,
   "id": "a31e1773",
   "metadata": {
    "execution": {
     "iopub.execute_input": "2022-03-30T18:06:04.156926Z",
     "iopub.status.busy": "2022-03-30T18:06:04.156322Z",
     "iopub.status.idle": "2022-03-30T18:06:04.182875Z",
     "shell.execute_reply": "2022-03-30T18:06:04.183370Z",
     "shell.execute_reply.started": "2022-03-28T17:09:24.619564Z"
    },
    "id": "zeNAdcH8YOPK",
    "outputId": "319c5959-3dde-4e77-bb74-7a2f6cda1ae9",
    "papermill": {
     "duration": 0.102188,
     "end_time": "2022-03-30T18:06:04.183538",
     "exception": false,
     "start_time": "2022-03-30T18:06:04.081350",
     "status": "completed"
    },
    "tags": []
   },
   "outputs": [
    {
     "data": {
      "text/html": [
       "<div>\n",
       "<style scoped>\n",
       "    .dataframe tbody tr th:only-of-type {\n",
       "        vertical-align: middle;\n",
       "    }\n",
       "\n",
       "    .dataframe tbody tr th {\n",
       "        vertical-align: top;\n",
       "    }\n",
       "\n",
       "    .dataframe thead th {\n",
       "        text-align: right;\n",
       "    }\n",
       "</style>\n",
       "<table border=\"1\" class=\"dataframe\">\n",
       "  <thead>\n",
       "    <tr style=\"text-align: right;\">\n",
       "      <th></th>\n",
       "      <th>0</th>\n",
       "      <th>1</th>\n",
       "      <th>2</th>\n",
       "      <th>3</th>\n",
       "      <th>4</th>\n",
       "      <th>5</th>\n",
       "      <th>6</th>\n",
       "      <th>7</th>\n",
       "      <th>8</th>\n",
       "      <th>9</th>\n",
       "      <th>...</th>\n",
       "      <th>26</th>\n",
       "      <th>27</th>\n",
       "      <th>28</th>\n",
       "      <th>29</th>\n",
       "      <th>30</th>\n",
       "      <th>31</th>\n",
       "      <th>temp</th>\n",
       "      <th>hum</th>\n",
       "      <th>windspeed</th>\n",
       "      <th>cnt</th>\n",
       "    </tr>\n",
       "  </thead>\n",
       "  <tbody>\n",
       "    <tr>\n",
       "      <th>0</th>\n",
       "      <td>1.0</td>\n",
       "      <td>0.0</td>\n",
       "      <td>0.0</td>\n",
       "      <td>0.0</td>\n",
       "      <td>1.0</td>\n",
       "      <td>0.0</td>\n",
       "      <td>1.0</td>\n",
       "      <td>0.0</td>\n",
       "      <td>0.0</td>\n",
       "      <td>0.0</td>\n",
       "      <td>...</td>\n",
       "      <td>1.0</td>\n",
       "      <td>1.0</td>\n",
       "      <td>0.0</td>\n",
       "      <td>0.0</td>\n",
       "      <td>1.0</td>\n",
       "      <td>0.0</td>\n",
       "      <td>0.344167</td>\n",
       "      <td>0.805833</td>\n",
       "      <td>0.160446</td>\n",
       "      <td>985</td>\n",
       "    </tr>\n",
       "    <tr>\n",
       "      <th>1</th>\n",
       "      <td>1.0</td>\n",
       "      <td>0.0</td>\n",
       "      <td>0.0</td>\n",
       "      <td>0.0</td>\n",
       "      <td>1.0</td>\n",
       "      <td>0.0</td>\n",
       "      <td>1.0</td>\n",
       "      <td>0.0</td>\n",
       "      <td>0.0</td>\n",
       "      <td>0.0</td>\n",
       "      <td>...</td>\n",
       "      <td>0.0</td>\n",
       "      <td>1.0</td>\n",
       "      <td>0.0</td>\n",
       "      <td>0.0</td>\n",
       "      <td>1.0</td>\n",
       "      <td>0.0</td>\n",
       "      <td>0.363478</td>\n",
       "      <td>0.696087</td>\n",
       "      <td>0.248539</td>\n",
       "      <td>801</td>\n",
       "    </tr>\n",
       "    <tr>\n",
       "      <th>2</th>\n",
       "      <td>1.0</td>\n",
       "      <td>0.0</td>\n",
       "      <td>0.0</td>\n",
       "      <td>0.0</td>\n",
       "      <td>1.0</td>\n",
       "      <td>0.0</td>\n",
       "      <td>1.0</td>\n",
       "      <td>0.0</td>\n",
       "      <td>0.0</td>\n",
       "      <td>0.0</td>\n",
       "      <td>...</td>\n",
       "      <td>0.0</td>\n",
       "      <td>0.0</td>\n",
       "      <td>1.0</td>\n",
       "      <td>1.0</td>\n",
       "      <td>0.0</td>\n",
       "      <td>0.0</td>\n",
       "      <td>0.196364</td>\n",
       "      <td>0.437273</td>\n",
       "      <td>0.248309</td>\n",
       "      <td>1349</td>\n",
       "    </tr>\n",
       "    <tr>\n",
       "      <th>3</th>\n",
       "      <td>1.0</td>\n",
       "      <td>0.0</td>\n",
       "      <td>0.0</td>\n",
       "      <td>0.0</td>\n",
       "      <td>1.0</td>\n",
       "      <td>0.0</td>\n",
       "      <td>1.0</td>\n",
       "      <td>0.0</td>\n",
       "      <td>0.0</td>\n",
       "      <td>0.0</td>\n",
       "      <td>...</td>\n",
       "      <td>0.0</td>\n",
       "      <td>0.0</td>\n",
       "      <td>1.0</td>\n",
       "      <td>1.0</td>\n",
       "      <td>0.0</td>\n",
       "      <td>0.0</td>\n",
       "      <td>0.200000</td>\n",
       "      <td>0.590435</td>\n",
       "      <td>0.160296</td>\n",
       "      <td>1562</td>\n",
       "    </tr>\n",
       "    <tr>\n",
       "      <th>4</th>\n",
       "      <td>1.0</td>\n",
       "      <td>0.0</td>\n",
       "      <td>0.0</td>\n",
       "      <td>0.0</td>\n",
       "      <td>1.0</td>\n",
       "      <td>0.0</td>\n",
       "      <td>1.0</td>\n",
       "      <td>0.0</td>\n",
       "      <td>0.0</td>\n",
       "      <td>0.0</td>\n",
       "      <td>...</td>\n",
       "      <td>0.0</td>\n",
       "      <td>0.0</td>\n",
       "      <td>1.0</td>\n",
       "      <td>1.0</td>\n",
       "      <td>0.0</td>\n",
       "      <td>0.0</td>\n",
       "      <td>0.226957</td>\n",
       "      <td>0.436957</td>\n",
       "      <td>0.186900</td>\n",
       "      <td>1600</td>\n",
       "    </tr>\n",
       "  </tbody>\n",
       "</table>\n",
       "<p>5 rows × 36 columns</p>\n",
       "</div>"
      ],
      "text/plain": [
       "     0    1    2    3    4    5    6    7    8    9  ...   26   27   28   29  \\\n",
       "0  1.0  0.0  0.0  0.0  1.0  0.0  1.0  0.0  0.0  0.0  ...  1.0  1.0  0.0  0.0   \n",
       "1  1.0  0.0  0.0  0.0  1.0  0.0  1.0  0.0  0.0  0.0  ...  0.0  1.0  0.0  0.0   \n",
       "2  1.0  0.0  0.0  0.0  1.0  0.0  1.0  0.0  0.0  0.0  ...  0.0  0.0  1.0  1.0   \n",
       "3  1.0  0.0  0.0  0.0  1.0  0.0  1.0  0.0  0.0  0.0  ...  0.0  0.0  1.0  1.0   \n",
       "4  1.0  0.0  0.0  0.0  1.0  0.0  1.0  0.0  0.0  0.0  ...  0.0  0.0  1.0  1.0   \n",
       "\n",
       "    30   31      temp       hum  windspeed   cnt  \n",
       "0  1.0  0.0  0.344167  0.805833   0.160446   985  \n",
       "1  1.0  0.0  0.363478  0.696087   0.248539   801  \n",
       "2  0.0  0.0  0.196364  0.437273   0.248309  1349  \n",
       "3  0.0  0.0  0.200000  0.590435   0.160296  1562  \n",
       "4  0.0  0.0  0.226957  0.436957   0.186900  1600  \n",
       "\n",
       "[5 rows x 36 columns]"
      ]
     },
     "execution_count": 38,
     "metadata": {},
     "output_type": "execute_result"
    }
   ],
   "source": [
    "X_all.head()"
   ]
  },
  {
   "cell_type": "code",
   "execution_count": 39,
   "id": "97b5dc4c",
   "metadata": {
    "execution": {
     "iopub.execute_input": "2022-03-30T18:06:04.340607Z",
     "iopub.status.busy": "2022-03-30T18:06:04.340017Z",
     "iopub.status.idle": "2022-03-30T18:06:04.341462Z",
     "shell.execute_reply": "2022-03-30T18:06:04.342054Z",
     "shell.execute_reply.started": "2022-03-28T17:09:24.658518Z"
    },
    "id": "t4SS6rH0YRr4",
    "papermill": {
     "duration": 0.084574,
     "end_time": "2022-03-30T18:06:04.342213",
     "exception": false,
     "start_time": "2022-03-30T18:06:04.257639",
     "status": "completed"
    },
    "tags": []
   },
   "outputs": [],
   "source": [
    "X = X_all.iloc[:, :-1].values"
   ]
  },
  {
   "cell_type": "code",
   "execution_count": 40,
   "id": "c7375189",
   "metadata": {
    "execution": {
     "iopub.execute_input": "2022-03-30T18:06:04.493360Z",
     "iopub.status.busy": "2022-03-30T18:06:04.492740Z",
     "iopub.status.idle": "2022-03-30T18:06:04.496211Z",
     "shell.execute_reply": "2022-03-30T18:06:04.496692Z",
     "shell.execute_reply.started": "2022-03-28T17:09:24.664653Z"
    },
    "id": "N_swB9R2Ya8U",
    "papermill": {
     "duration": 0.08106,
     "end_time": "2022-03-30T18:06:04.496865",
     "exception": false,
     "start_time": "2022-03-30T18:06:04.415805",
     "status": "completed"
    },
    "tags": []
   },
   "outputs": [],
   "source": [
    "y = X_all.iloc[:, -1:].values"
   ]
  },
  {
   "cell_type": "code",
   "execution_count": 41,
   "id": "8f17659e",
   "metadata": {
    "execution": {
     "iopub.execute_input": "2022-03-30T18:06:04.648716Z",
     "iopub.status.busy": "2022-03-30T18:06:04.648149Z",
     "iopub.status.idle": "2022-03-30T18:06:04.652166Z",
     "shell.execute_reply": "2022-03-30T18:06:04.652734Z",
     "shell.execute_reply.started": "2022-03-28T17:09:24.679327Z"
    },
    "id": "7oUireQXYg1h",
    "outputId": "fdd12e2a-94e0-4bba-d63b-6a55ad2e0098",
    "papermill": {
     "duration": 0.082311,
     "end_time": "2022-03-30T18:06:04.653015",
     "exception": false,
     "start_time": "2022-03-30T18:06:04.570704",
     "status": "completed"
    },
    "tags": []
   },
   "outputs": [
    {
     "data": {
      "text/plain": [
       "(731, 35)"
      ]
     },
     "metadata": {},
     "output_type": "display_data"
    }
   ],
   "source": [
    "display(X.shape)"
   ]
  },
  {
   "cell_type": "code",
   "execution_count": 42,
   "id": "b206c741",
   "metadata": {
    "execution": {
     "iopub.execute_input": "2022-03-30T18:06:04.807407Z",
     "iopub.status.busy": "2022-03-30T18:06:04.806815Z",
     "iopub.status.idle": "2022-03-30T18:06:04.810993Z",
     "shell.execute_reply": "2022-03-30T18:06:04.811521Z",
     "shell.execute_reply.started": "2022-03-28T17:09:24.693265Z"
    },
    "id": "XXq8FeXaYss9",
    "outputId": "4e789369-e557-48b0-9c99-4936fc55b3e3",
    "papermill": {
     "duration": 0.08396,
     "end_time": "2022-03-30T18:06:04.811698",
     "exception": false,
     "start_time": "2022-03-30T18:06:04.727738",
     "status": "completed"
    },
    "tags": []
   },
   "outputs": [
    {
     "data": {
      "text/plain": [
       "(731, 1)"
      ]
     },
     "metadata": {},
     "output_type": "display_data"
    }
   ],
   "source": [
    "display(y.shape)"
   ]
  },
  {
   "cell_type": "code",
   "execution_count": 43,
   "id": "76a18922",
   "metadata": {
    "execution": {
     "iopub.execute_input": "2022-03-30T18:06:04.965403Z",
     "iopub.status.busy": "2022-03-30T18:06:04.964766Z",
     "iopub.status.idle": "2022-03-30T18:06:04.968927Z",
     "shell.execute_reply": "2022-03-30T18:06:04.969423Z",
     "shell.execute_reply.started": "2022-03-28T17:09:24.704279Z"
    },
    "id": "K4NtXpLuZdf9",
    "papermill": {
     "duration": 0.083719,
     "end_time": "2022-03-30T18:06:04.969598",
     "exception": false,
     "start_time": "2022-03-30T18:06:04.885879",
     "status": "completed"
    },
    "tags": []
   },
   "outputs": [],
   "source": [
    "from sklearn.preprocessing import MinMaxScaler\n",
    "scaler = MinMaxScaler()\n",
    "y = scaler.fit_transform(y)"
   ]
  },
  {
   "cell_type": "code",
   "execution_count": 44,
   "id": "d383cac4",
   "metadata": {
    "execution": {
     "iopub.execute_input": "2022-03-30T18:06:05.123375Z",
     "iopub.status.busy": "2022-03-30T18:06:05.122712Z",
     "iopub.status.idle": "2022-03-30T18:06:05.168798Z",
     "shell.execute_reply": "2022-03-30T18:06:05.169290Z",
     "shell.execute_reply.started": "2022-03-28T17:09:24.745842Z"
    },
    "id": "p29757oQZ3K7",
    "papermill": {
     "duration": 0.12467,
     "end_time": "2022-03-30T18:06:05.169457",
     "exception": false,
     "start_time": "2022-03-30T18:06:05.044787",
     "status": "completed"
    },
    "tags": []
   },
   "outputs": [],
   "source": [
    "from sklearn.model_selection import train_test_split\n",
    "X_train, X_test, y_train, y_test = train_test_split(X, y, test_size = 0.2)"
   ]
  },
  {
   "cell_type": "code",
   "execution_count": 45,
   "id": "d34ad216",
   "metadata": {
    "execution": {
     "iopub.execute_input": "2022-03-30T18:06:05.327008Z",
     "iopub.status.busy": "2022-03-30T18:06:05.324961Z",
     "iopub.status.idle": "2022-03-30T18:06:05.330593Z",
     "shell.execute_reply": "2022-03-30T18:06:05.330115Z",
     "shell.execute_reply.started": "2022-03-28T17:09:24.752814Z"
    },
    "id": "EJvAtzslaEgX",
    "outputId": "2b87b75a-0a83-4874-dc21-355c979170ff",
    "papermill": {
     "duration": 0.08721,
     "end_time": "2022-03-30T18:06:05.330751",
     "exception": false,
     "start_time": "2022-03-30T18:06:05.243541",
     "status": "completed"
    },
    "tags": []
   },
   "outputs": [
    {
     "data": {
      "text/plain": [
       "(584, 35)"
      ]
     },
     "metadata": {},
     "output_type": "display_data"
    }
   ],
   "source": [
    "display(X_train.shape)"
   ]
  },
  {
   "cell_type": "code",
   "execution_count": 46,
   "id": "ee88b0b6",
   "metadata": {
    "execution": {
     "iopub.execute_input": "2022-03-30T18:06:05.487105Z",
     "iopub.status.busy": "2022-03-30T18:06:05.486430Z",
     "iopub.status.idle": "2022-03-30T18:06:05.489126Z",
     "shell.execute_reply": "2022-03-30T18:06:05.489567Z",
     "shell.execute_reply.started": "2022-03-28T17:09:24.768121Z"
    },
    "id": "TFpN_T1ZaH5T",
    "outputId": "36da3d4d-6505-4930-f9d3-dcd1e508a7e5",
    "papermill": {
     "duration": 0.082878,
     "end_time": "2022-03-30T18:06:05.489857",
     "exception": false,
     "start_time": "2022-03-30T18:06:05.406979",
     "status": "completed"
    },
    "tags": []
   },
   "outputs": [
    {
     "data": {
      "text/plain": [
       "(147, 35)"
      ]
     },
     "metadata": {},
     "output_type": "display_data"
    }
   ],
   "source": [
    "display(X_test.shape)"
   ]
  },
  {
   "cell_type": "markdown",
   "id": "c93bc034",
   "metadata": {
    "id": "idWHLv5alF4C",
    "papermill": {
     "duration": 0.075658,
     "end_time": "2022-03-30T18:06:05.641570",
     "exception": false,
     "start_time": "2022-03-30T18:06:05.565912",
     "status": "completed"
    },
    "tags": []
   },
   "source": [
    "# Etapa 6: Construção e treinamento do modelo"
   ]
  },
  {
   "cell_type": "code",
   "execution_count": 47,
   "id": "89287601",
   "metadata": {
    "execution": {
     "iopub.execute_input": "2022-03-30T18:06:05.796698Z",
     "iopub.status.busy": "2022-03-30T18:06:05.796044Z",
     "iopub.status.idle": "2022-03-30T18:06:07.014590Z",
     "shell.execute_reply": "2022-03-30T18:06:07.015067Z",
     "shell.execute_reply.started": "2022-03-28T17:09:24.780614Z"
    },
    "id": "F_00ilOya0k_",
    "papermill": {
     "duration": 1.298432,
     "end_time": "2022-03-30T18:06:07.015229",
     "exception": false,
     "start_time": "2022-03-30T18:06:05.716797",
     "status": "completed"
    },
    "tags": []
   },
   "outputs": [
    {
     "name": "stderr",
     "output_type": "stream",
     "text": [
      "2022-03-30 18:06:06.918223: I tensorflow/core/common_runtime/process_util.cc:146] Creating new thread pool with default inter op setting: 2. Tune using inter_op_parallelism_threads for best performance.\n"
     ]
    }
   ],
   "source": [
    "model = tf.keras.models.Sequential()\n",
    "model.add(tf.keras.layers.Dense(units = 100, activation='relu', input_shape=(35,)))\n",
    "model.add(tf.keras.layers.Dense(units=100, activation='relu'))\n",
    "model.add(tf.keras.layers.Dense(units=100, activation='relu'))\n",
    "model.add(tf.keras.layers.Dense(units=1, activation='linear'))"
   ]
  },
  {
   "cell_type": "code",
   "execution_count": 48,
   "id": "f714bb0d",
   "metadata": {
    "execution": {
     "iopub.execute_input": "2022-03-30T18:06:07.176293Z",
     "iopub.status.busy": "2022-03-30T18:06:07.175357Z",
     "iopub.status.idle": "2022-03-30T18:06:07.181242Z",
     "shell.execute_reply": "2022-03-30T18:06:07.181750Z",
     "shell.execute_reply.started": "2022-03-28T17:09:24.824683Z"
    },
    "id": "Ieh0hrrNbjon",
    "outputId": "9ff58dfa-055d-402f-f604-584b93b142e3",
    "papermill": {
     "duration": 0.087666,
     "end_time": "2022-03-30T18:06:07.181940",
     "exception": false,
     "start_time": "2022-03-30T18:06:07.094274",
     "status": "completed"
    },
    "tags": []
   },
   "outputs": [
    {
     "name": "stdout",
     "output_type": "stream",
     "text": [
      "Model: \"sequential\"\n",
      "_________________________________________________________________\n",
      "Layer (type)                 Output Shape              Param #   \n",
      "=================================================================\n",
      "dense (Dense)                (None, 100)               3600      \n",
      "_________________________________________________________________\n",
      "dense_1 (Dense)              (None, 100)               10100     \n",
      "_________________________________________________________________\n",
      "dense_2 (Dense)              (None, 100)               10100     \n",
      "_________________________________________________________________\n",
      "dense_3 (Dense)              (None, 1)                 101       \n",
      "=================================================================\n",
      "Total params: 23,901\n",
      "Trainable params: 23,901\n",
      "Non-trainable params: 0\n",
      "_________________________________________________________________\n"
     ]
    },
    {
     "data": {
      "text/plain": [
       "None"
      ]
     },
     "metadata": {},
     "output_type": "display_data"
    }
   ],
   "source": [
    "display(model.summary())"
   ]
  },
  {
   "cell_type": "code",
   "execution_count": 49,
   "id": "c4479eb7",
   "metadata": {
    "execution": {
     "iopub.execute_input": "2022-03-30T18:06:07.350974Z",
     "iopub.status.busy": "2022-03-30T18:06:07.347236Z",
     "iopub.status.idle": "2022-03-30T18:06:07.359180Z",
     "shell.execute_reply": "2022-03-30T18:06:07.358457Z",
     "shell.execute_reply.started": "2022-03-28T17:09:24.837709Z"
    },
    "id": "sRYu4CM0bvOr",
    "papermill": {
     "duration": 0.097578,
     "end_time": "2022-03-30T18:06:07.359348",
     "exception": false,
     "start_time": "2022-03-30T18:06:07.261770",
     "status": "completed"
    },
    "tags": []
   },
   "outputs": [],
   "source": [
    "model.compile(optimizer='Adam', loss='mean_squared_error')"
   ]
  },
  {
   "cell_type": "code",
   "execution_count": 50,
   "id": "78e559e0",
   "metadata": {
    "execution": {
     "iopub.execute_input": "2022-03-30T18:06:07.523401Z",
     "iopub.status.busy": "2022-03-30T18:06:07.522798Z",
     "iopub.status.idle": "2022-03-30T18:06:10.079197Z",
     "shell.execute_reply": "2022-03-30T18:06:10.079707Z",
     "shell.execute_reply.started": "2022-03-28T17:09:24.850871Z"
    },
    "id": "K2sPfFwecdxo",
    "outputId": "f2676f45-7f4c-4a06-a468-cf550f0da5ff",
    "papermill": {
     "duration": 2.640153,
     "end_time": "2022-03-30T18:06:10.079905",
     "exception": false,
     "start_time": "2022-03-30T18:06:07.439752",
     "status": "completed"
    },
    "tags": []
   },
   "outputs": [
    {
     "name": "stderr",
     "output_type": "stream",
     "text": [
      "2022-03-30 18:06:07.621609: I tensorflow/compiler/mlir/mlir_graph_optimization_pass.cc:185] None of the MLIR Optimization Passes are enabled (registered 2)\n"
     ]
    },
    {
     "name": "stdout",
     "output_type": "stream",
     "text": [
      "Epoch 1/25\n",
      "10/10 [==============================] - 1s 23ms/step - loss: 0.2571 - val_loss: 0.1163\n",
      "Epoch 2/25\n",
      "10/10 [==============================] - 0s 6ms/step - loss: 0.0758 - val_loss: 0.0626\n",
      "Epoch 3/25\n",
      "10/10 [==============================] - 0s 6ms/step - loss: 0.0377 - val_loss: 0.0245\n",
      "Epoch 4/25\n",
      "10/10 [==============================] - 0s 6ms/step - loss: 0.0214 - val_loss: 0.0176\n",
      "Epoch 5/25\n",
      "10/10 [==============================] - 0s 6ms/step - loss: 0.0135 - val_loss: 0.0160\n",
      "Epoch 6/25\n",
      "10/10 [==============================] - 0s 7ms/step - loss: 0.0103 - val_loss: 0.0144\n",
      "Epoch 7/25\n",
      "10/10 [==============================] - 0s 6ms/step - loss: 0.0085 - val_loss: 0.0137\n",
      "Epoch 8/25\n",
      "10/10 [==============================] - 0s 6ms/step - loss: 0.0074 - val_loss: 0.0133\n",
      "Epoch 9/25\n",
      "10/10 [==============================] - 0s 6ms/step - loss: 0.0068 - val_loss: 0.0139\n",
      "Epoch 10/25\n",
      "10/10 [==============================] - 0s 6ms/step - loss: 0.0061 - val_loss: 0.0136\n",
      "Epoch 11/25\n",
      "10/10 [==============================] - 0s 6ms/step - loss: 0.0059 - val_loss: 0.0128\n",
      "Epoch 12/25\n",
      "10/10 [==============================] - 0s 6ms/step - loss: 0.0056 - val_loss: 0.0141\n",
      "Epoch 13/25\n",
      "10/10 [==============================] - 0s 6ms/step - loss: 0.0051 - val_loss: 0.0137\n",
      "Epoch 14/25\n",
      "10/10 [==============================] - 0s 12ms/step - loss: 0.0046 - val_loss: 0.0128\n",
      "Epoch 15/25\n",
      "10/10 [==============================] - 0s 6ms/step - loss: 0.0043 - val_loss: 0.0146\n",
      "Epoch 16/25\n",
      "10/10 [==============================] - 0s 6ms/step - loss: 0.0044 - val_loss: 0.0127\n",
      "Epoch 17/25\n",
      "10/10 [==============================] - 0s 6ms/step - loss: 0.0039 - val_loss: 0.0124\n",
      "Epoch 18/25\n",
      "10/10 [==============================] - 0s 6ms/step - loss: 0.0038 - val_loss: 0.0128\n",
      "Epoch 19/25\n",
      "10/10 [==============================] - 0s 6ms/step - loss: 0.0035 - val_loss: 0.0127\n",
      "Epoch 20/25\n",
      "10/10 [==============================] - 0s 6ms/step - loss: 0.0033 - val_loss: 0.0123\n",
      "Epoch 21/25\n",
      "10/10 [==============================] - 0s 7ms/step - loss: 0.0032 - val_loss: 0.0128\n",
      "Epoch 22/25\n",
      "10/10 [==============================] - 0s 6ms/step - loss: 0.0031 - val_loss: 0.0125\n",
      "Epoch 23/25\n",
      "10/10 [==============================] - 0s 7ms/step - loss: 0.0029 - val_loss: 0.0122\n",
      "Epoch 24/25\n",
      "10/10 [==============================] - 0s 7ms/step - loss: 0.0028 - val_loss: 0.0128\n",
      "Epoch 25/25\n",
      "10/10 [==============================] - 0s 6ms/step - loss: 0.0027 - val_loss: 0.0124\n"
     ]
    }
   ],
   "source": [
    "epochs_hist = model.fit(X_train, y_train, epochs = 25, batch_size = 50, validation_split=0.2)"
   ]
  },
  {
   "cell_type": "markdown",
   "id": "9854efb6",
   "metadata": {
    "id": "-wRQqOeB5Zh5",
    "papermill": {
     "duration": 0.091823,
     "end_time": "2022-03-30T18:06:10.265198",
     "exception": false,
     "start_time": "2022-03-30T18:06:10.173375",
     "status": "completed"
    },
    "tags": []
   },
   "source": [
    "# Etapa 7: Avaliação do modelo "
   ]
  },
  {
   "cell_type": "code",
   "execution_count": 51,
   "id": "79e67e2a",
   "metadata": {
    "execution": {
     "iopub.execute_input": "2022-03-30T18:06:10.456223Z",
     "iopub.status.busy": "2022-03-30T18:06:10.455463Z",
     "iopub.status.idle": "2022-03-30T18:06:10.458641Z",
     "shell.execute_reply": "2022-03-30T18:06:10.459103Z",
     "shell.execute_reply.started": "2022-03-28T17:09:27.125661Z"
    },
    "id": "19OUz9dUfFm6",
    "outputId": "1f3f00fb-258c-45a3-89ef-58459f2c6b19",
    "papermill": {
     "duration": 0.100384,
     "end_time": "2022-03-30T18:06:10.459267",
     "exception": false,
     "start_time": "2022-03-30T18:06:10.358883",
     "status": "completed"
    },
    "tags": []
   },
   "outputs": [
    {
     "data": {
      "text/plain": [
       "dict_keys(['loss', 'val_loss'])"
      ]
     },
     "execution_count": 51,
     "metadata": {},
     "output_type": "execute_result"
    }
   ],
   "source": [
    "epochs_hist.history.keys()"
   ]
  },
  {
   "cell_type": "code",
   "execution_count": 52,
   "id": "12df981f",
   "metadata": {
    "execution": {
     "iopub.execute_input": "2022-03-30T18:06:10.651972Z",
     "iopub.status.busy": "2022-03-30T18:06:10.651041Z",
     "iopub.status.idle": "2022-03-30T18:06:10.876515Z",
     "shell.execute_reply": "2022-03-30T18:06:10.876999Z",
     "shell.execute_reply.started": "2022-03-28T17:09:27.134409Z"
    },
    "id": "ra-7IgK7fNAT",
    "outputId": "c6252b76-425d-4b7f-f920-6696bcfa3b2f",
    "papermill": {
     "duration": 0.322719,
     "end_time": "2022-03-30T18:06:10.877169",
     "exception": false,
     "start_time": "2022-03-30T18:06:10.554450",
     "status": "completed"
    },
    "tags": []
   },
   "outputs": [
    {
     "data": {
      "image/png": "[encoded data removed]",
      "text/plain": [
       "<Figure size 432x288 with 1 Axes>"
      ]
     },
     "metadata": {
      "needs_background": "light"
     },
     "output_type": "display_data"
    }
   ],
   "source": [
    "plt.plot(epochs_hist.history['loss'])\n",
    "plt.plot(epochs_hist.history['val_loss'])\n",
    "plt.title('Model loss progress during training')\n",
    "plt.xlabel('Epochs')\n",
    "plt.ylabel('Training and validation loss')\n",
    "plt.legend(['Training loss', 'Validation loss']);"
   ]
  },
  {
   "cell_type": "code",
   "execution_count": 53,
   "id": "8199f045",
   "metadata": {
    "execution": {
     "iopub.execute_input": "2022-03-30T18:06:11.069244Z",
     "iopub.status.busy": "2022-03-30T18:06:11.066968Z",
     "iopub.status.idle": "2022-03-30T18:06:11.215546Z",
     "shell.execute_reply": "2022-03-30T18:06:11.214999Z",
     "shell.execute_reply.started": "2022-03-28T17:09:27.389103Z"
    },
    "id": "8UtGtlUfgAH9",
    "papermill": {
     "duration": 0.245712,
     "end_time": "2022-03-30T18:06:11.215731",
     "exception": false,
     "start_time": "2022-03-30T18:06:10.970019",
     "status": "completed"
    },
    "tags": []
   },
   "outputs": [],
   "source": [
    "y_predict = model.predict(X_test)"
   ]
  },
  {
   "cell_type": "code",
   "execution_count": 54,
   "id": "cab355df",
   "metadata": {
    "execution": {
     "iopub.execute_input": "2022-03-30T18:06:11.410825Z",
     "iopub.status.busy": "2022-03-30T18:06:11.406833Z",
     "iopub.status.idle": "2022-03-30T18:06:11.414233Z",
     "shell.execute_reply": "2022-03-30T18:06:11.414763Z",
     "shell.execute_reply.started": "2022-03-28T17:09:27.502329Z"
    },
    "id": "EhasP5fAgLx_",
    "outputId": "35a99659-d730-4673-e39e-d8114e2a93bd",
    "papermill": {
     "duration": 0.102964,
     "end_time": "2022-03-30T18:06:11.414931",
     "exception": false,
     "start_time": "2022-03-30T18:06:11.311967",
     "status": "completed"
    },
    "tags": []
   },
   "outputs": [
    {
     "data": {
      "text/plain": [
       "array([[0.93967617],\n",
       "       [0.81774116],\n",
       "       [0.57822037],\n",
       "       [0.6879496 ],\n",
       "       [0.73556244],\n",
       "       [0.51957494],\n",
       "       [0.36004114],\n",
       "       [0.5112466 ],\n",
       "       [0.5436085 ],\n",
       "       [0.81316096],\n",
       "       [0.13590027],\n",
       "       [0.17163953],\n",
       "       [0.26040298],\n",
       "       [0.3281946 ],\n",
       "       [0.7856815 ],\n",
       "       [0.53022593],\n",
       "       [0.26193693],\n",
       "       [0.54457897],\n",
       "       [0.6212983 ],\n",
       "       [0.42130426],\n",
       "       [0.601695  ],\n",
       "       [0.81947476],\n",
       "       [0.76701933],\n",
       "       [0.5438758 ],\n",
       "       [0.46682328],\n",
       "       [0.20245688],\n",
       "       [0.61672735],\n",
       "       [0.39299437],\n",
       "       [0.22835945],\n",
       "       [0.35884356],\n",
       "       [0.5159697 ],\n",
       "       [0.29691204],\n",
       "       [0.58706915],\n",
       "       [0.822102  ],\n",
       "       [0.76985824],\n",
       "       [0.27966022],\n",
       "       [0.47666675],\n",
       "       [0.167686  ],\n",
       "       [0.1909291 ],\n",
       "       [0.59579587],\n",
       "       [0.36685532],\n",
       "       [0.8307913 ],\n",
       "       [0.50265324],\n",
       "       [0.42568994],\n",
       "       [0.7420723 ],\n",
       "       [0.61152416],\n",
       "       [0.81631863],\n",
       "       [0.51933736],\n",
       "       [0.6717152 ],\n",
       "       [0.12773672],\n",
       "       [0.45927277],\n",
       "       [0.4383769 ],\n",
       "       [0.55109453],\n",
       "       [0.5239475 ],\n",
       "       [0.45113304],\n",
       "       [0.48279864],\n",
       "       [0.24077944],\n",
       "       [0.477312  ],\n",
       "       [0.39684775],\n",
       "       [0.5041657 ],\n",
       "       [0.19208433],\n",
       "       [0.68627155],\n",
       "       [0.46655083],\n",
       "       [0.7289402 ],\n",
       "       [0.7661078 ],\n",
       "       [0.4130597 ],\n",
       "       [0.2865271 ],\n",
       "       [0.4401012 ],\n",
       "       [0.49161634],\n",
       "       [0.45218033],\n",
       "       [0.7951677 ],\n",
       "       [0.76233155],\n",
       "       [0.7879558 ],\n",
       "       [0.16683659],\n",
       "       [0.49366638],\n",
       "       [0.26677477],\n",
       "       [0.52764547],\n",
       "       [0.7093647 ],\n",
       "       [0.20276214],\n",
       "       [0.5130973 ],\n",
       "       [0.87356913],\n",
       "       [0.6157109 ],\n",
       "       [0.4623614 ],\n",
       "       [0.21421893],\n",
       "       [0.21942942],\n",
       "       [0.48873568],\n",
       "       [0.72533613],\n",
       "       [0.25706324],\n",
       "       [0.5090439 ],\n",
       "       [0.39709514],\n",
       "       [0.6600508 ],\n",
       "       [0.75489706],\n",
       "       [0.26720813],\n",
       "       [0.6350881 ],\n",
       "       [0.52033174],\n",
       "       [0.20164391],\n",
       "       [0.49005267],\n",
       "       [0.44195187],\n",
       "       [0.53868586],\n",
       "       [0.82379764],\n",
       "       [0.87235695],\n",
       "       [0.8224776 ],\n",
       "       [0.5379315 ],\n",
       "       [0.58101803],\n",
       "       [0.19513986],\n",
       "       [0.8994137 ],\n",
       "       [0.1866767 ],\n",
       "       [0.09533384],\n",
       "       [0.3440514 ],\n",
       "       [0.8093934 ],\n",
       "       [0.52119297],\n",
       "       [0.64731795],\n",
       "       [0.5914326 ],\n",
       "       [0.6844138 ],\n",
       "       [0.04668469],\n",
       "       [0.20211934],\n",
       "       [0.8417136 ],\n",
       "       [0.59220755],\n",
       "       [0.34847358],\n",
       "       [0.883178  ],\n",
       "       [0.5933361 ],\n",
       "       [0.1812942 ],\n",
       "       [0.61691916],\n",
       "       [0.37602013],\n",
       "       [0.8547751 ],\n",
       "       [0.5591719 ],\n",
       "       [0.42415074],\n",
       "       [0.20274982],\n",
       "       [0.48849076],\n",
       "       [0.8775836 ],\n",
       "       [0.5408773 ],\n",
       "       [0.26471204],\n",
       "       [0.8488246 ],\n",
       "       [0.57748777],\n",
       "       [0.65394425],\n",
       "       [0.17722972],\n",
       "       [0.5097195 ],\n",
       "       [0.6980414 ],\n",
       "       [0.24557102],\n",
       "       [0.72066504],\n",
       "       [0.60868436],\n",
       "       [0.61940336],\n",
       "       [0.71098673],\n",
       "       [0.41456336],\n",
       "       [0.42540523],\n",
       "       [0.28775197],\n",
       "       [0.32427222]], dtype=float32)"
      ]
     },
     "metadata": {},
     "output_type": "display_data"
    }
   ],
   "source": [
    "display(y_predict)"
   ]
  },
  {
   "cell_type": "code",
   "execution_count": 55,
   "id": "8e0e5271",
   "metadata": {
    "execution": {
     "iopub.execute_input": "2022-03-30T18:06:11.627939Z",
     "iopub.status.busy": "2022-03-30T18:06:11.625951Z",
     "iopub.status.idle": "2022-03-30T18:06:11.821327Z",
     "shell.execute_reply": "2022-03-30T18:06:11.820435Z",
     "shell.execute_reply.started": "2022-03-28T17:09:27.51287Z"
    },
    "id": "GhIKKQUngRdr",
    "outputId": "5b7cbb08-1e02-478d-cc81-a8defc47e593",
    "papermill": {
     "duration": 0.29357,
     "end_time": "2022-03-30T18:06:11.821468",
     "exception": false,
     "start_time": "2022-03-30T18:06:11.527898",
     "status": "completed"
    },
    "tags": []
   },
   "outputs": [
    {
     "data": {
      "text/plain": [
       "Text(0, 0.5, 'True values')"
      ]
     },
     "execution_count": 55,
     "metadata": {},
     "output_type": "execute_result"
    },
    {
     "data": {
      "image/png": "[encoded data removed]",
      "text/plain": [
       "<Figure size 432x288 with 1 Axes>"
      ]
     },
     "metadata": {
      "needs_background": "light"
     },
     "output_type": "display_data"
    }
   ],
   "source": [
    "plt.plot(y_test, y_predict, \"^\", color = 'r')\n",
    "plt.xlabel('Model predictions')\n",
    "plt.ylabel('True values')"
   ]
  },
  {
   "cell_type": "code",
   "execution_count": 56,
   "id": "09b93f10",
   "metadata": {
    "execution": {
     "iopub.execute_input": "2022-03-30T18:06:12.020342Z",
     "iopub.status.busy": "2022-03-30T18:06:12.019724Z",
     "iopub.status.idle": "2022-03-30T18:06:12.048077Z",
     "shell.execute_reply": "2022-03-30T18:06:12.047450Z",
     "shell.execute_reply.started": "2022-03-28T17:09:27.734647Z"
    },
    "id": "fyFpPlgEhGWZ",
    "papermill": {
     "duration": 0.130469,
     "end_time": "2022-03-30T18:06:12.048237",
     "exception": false,
     "start_time": "2022-03-30T18:06:11.917768",
     "status": "completed"
    },
    "tags": []
   },
   "outputs": [
    {
     "data": {
      "text/html": [
       "<div>\n",
       "<style scoped>\n",
       "    .dataframe tbody tr th:only-of-type {\n",
       "        vertical-align: middle;\n",
       "    }\n",
       "\n",
       "    .dataframe tbody tr th {\n",
       "        vertical-align: top;\n",
       "    }\n",
       "\n",
       "    .dataframe thead th {\n",
       "        text-align: right;\n",
       "    }\n",
       "</style>\n",
       "<table border=\"1\" class=\"dataframe\">\n",
       "  <thead>\n",
       "    <tr style=\"text-align: right;\">\n",
       "      <th></th>\n",
       "      <th>Y_test</th>\n",
       "      <th>Prediction</th>\n",
       "      <th>Diference Between Y_test and Prediction</th>\n",
       "    </tr>\n",
       "  </thead>\n",
       "  <tbody>\n",
       "    <tr>\n",
       "      <th>0</th>\n",
       "      <td>7965.0</td>\n",
       "      <td>8189.665039</td>\n",
       "      <td>-224.665039</td>\n",
       "    </tr>\n",
       "    <tr>\n",
       "      <th>1</th>\n",
       "      <td>7350.0</td>\n",
       "      <td>7129.806152</td>\n",
       "      <td>220.193848</td>\n",
       "    </tr>\n",
       "    <tr>\n",
       "      <th>2</th>\n",
       "      <td>5936.0</td>\n",
       "      <td>5047.891113</td>\n",
       "      <td>888.108887</td>\n",
       "    </tr>\n",
       "    <tr>\n",
       "      <th>3</th>\n",
       "      <td>6290.0</td>\n",
       "      <td>6001.657715</td>\n",
       "      <td>288.342285</td>\n",
       "    </tr>\n",
       "    <tr>\n",
       "      <th>4</th>\n",
       "      <td>5870.0</td>\n",
       "      <td>6415.508789</td>\n",
       "      <td>-545.508789</td>\n",
       "    </tr>\n",
       "    <tr>\n",
       "      <th>...</th>\n",
       "      <td>...</td>\n",
       "      <td>...</td>\n",
       "      <td>...</td>\n",
       "    </tr>\n",
       "    <tr>\n",
       "      <th>142</th>\n",
       "      <td>6398.0</td>\n",
       "      <td>6201.896484</td>\n",
       "      <td>196.103516</td>\n",
       "    </tr>\n",
       "    <tr>\n",
       "      <th>143</th>\n",
       "      <td>3214.0</td>\n",
       "      <td>3625.384521</td>\n",
       "      <td>-411.384521</td>\n",
       "    </tr>\n",
       "    <tr>\n",
       "      <th>144</th>\n",
       "      <td>4881.0</td>\n",
       "      <td>3719.622314</td>\n",
       "      <td>1161.377686</td>\n",
       "    </tr>\n",
       "    <tr>\n",
       "      <th>145</th>\n",
       "      <td>2947.0</td>\n",
       "      <td>2523.140137</td>\n",
       "      <td>423.859863</td>\n",
       "    </tr>\n",
       "    <tr>\n",
       "      <th>146</th>\n",
       "      <td>2710.0</td>\n",
       "      <td>2840.573975</td>\n",
       "      <td>-130.573975</td>\n",
       "    </tr>\n",
       "  </tbody>\n",
       "</table>\n",
       "<p>147 rows × 3 columns</p>\n",
       "</div>"
      ],
      "text/plain": [
       "     Y_test   Prediction  Diference Between Y_test and Prediction\n",
       "0    7965.0  8189.665039                              -224.665039\n",
       "1    7350.0  7129.806152                               220.193848\n",
       "2    5936.0  5047.891113                               888.108887\n",
       "3    6290.0  6001.657715                               288.342285\n",
       "4    5870.0  6415.508789                              -545.508789\n",
       "..      ...          ...                                      ...\n",
       "142  6398.0  6201.896484                               196.103516\n",
       "143  3214.0  3625.384521                              -411.384521\n",
       "144  4881.0  3719.622314                              1161.377686\n",
       "145  2947.0  2523.140137                               423.859863\n",
       "146  2710.0  2840.573975                              -130.573975\n",
       "\n",
       "[147 rows x 3 columns]"
      ]
     },
     "metadata": {},
     "output_type": "display_data"
    },
    {
     "data": {
      "text/html": [
       "<div>\n",
       "<style scoped>\n",
       "    .dataframe tbody tr th:only-of-type {\n",
       "        vertical-align: middle;\n",
       "    }\n",
       "\n",
       "    .dataframe tbody tr th {\n",
       "        vertical-align: top;\n",
       "    }\n",
       "\n",
       "    .dataframe thead th {\n",
       "        text-align: right;\n",
       "    }\n",
       "</style>\n",
       "<table border=\"1\" class=\"dataframe\">\n",
       "  <thead>\n",
       "    <tr style=\"text-align: right;\">\n",
       "      <th></th>\n",
       "      <th>Y_test</th>\n",
       "      <th>Prediction</th>\n",
       "      <th>Diference Between Y_test and Prediction</th>\n",
       "    </tr>\n",
       "  </thead>\n",
       "  <tbody>\n",
       "    <tr>\n",
       "      <th>count</th>\n",
       "      <td>147.000000</td>\n",
       "      <td>147.000000</td>\n",
       "      <td>147.000000</td>\n",
       "    </tr>\n",
       "    <tr>\n",
       "      <th>mean</th>\n",
       "      <td>4418.653061</td>\n",
       "      <td>4466.139160</td>\n",
       "      <td>-47.487134</td>\n",
       "    </tr>\n",
       "    <tr>\n",
       "      <th>std</th>\n",
       "      <td>1969.576471</td>\n",
       "      <td>1868.226074</td>\n",
       "      <td>913.889427</td>\n",
       "    </tr>\n",
       "    <tr>\n",
       "      <th>min</th>\n",
       "      <td>22.000000</td>\n",
       "      <td>427.783325</td>\n",
       "      <td>-5091.797852</td>\n",
       "    </tr>\n",
       "    <tr>\n",
       "      <th>25%</th>\n",
       "      <td>3032.000000</td>\n",
       "      <td>3096.000122</td>\n",
       "      <td>-423.753906</td>\n",
       "    </tr>\n",
       "    <tr>\n",
       "      <th>50%</th>\n",
       "      <td>4576.000000</td>\n",
       "      <td>4506.808594</td>\n",
       "      <td>-12.627930</td>\n",
       "    </tr>\n",
       "    <tr>\n",
       "      <th>75%</th>\n",
       "      <td>5705.500000</td>\n",
       "      <td>5915.736572</td>\n",
       "      <td>485.498535</td>\n",
       "    </tr>\n",
       "    <tr>\n",
       "      <th>max</th>\n",
       "      <td>8714.000000</td>\n",
       "      <td>8189.665039</td>\n",
       "      <td>2098.449219</td>\n",
       "    </tr>\n",
       "  </tbody>\n",
       "</table>\n",
       "</div>"
      ],
      "text/plain": [
       "            Y_test   Prediction  Diference Between Y_test and Prediction\n",
       "count   147.000000   147.000000                               147.000000\n",
       "mean   4418.653061  4466.139160                               -47.487134\n",
       "std    1969.576471  1868.226074                               913.889427\n",
       "min      22.000000   427.783325                             -5091.797852\n",
       "25%    3032.000000  3096.000122                              -423.753906\n",
       "50%    4576.000000  4506.808594                               -12.627930\n",
       "75%    5705.500000  5915.736572                               485.498535\n",
       "max    8714.000000  8189.665039                              2098.449219"
      ]
     },
     "execution_count": 56,
     "metadata": {},
     "output_type": "execute_result"
    }
   ],
   "source": [
    "y_predict_orig = scaler.inverse_transform(y_predict)\n",
    "y_test_orig = scaler.inverse_transform(y_test)\n",
    "comp = pd.DataFrame(y_test_orig)\n",
    "comp.columns = ['Y_test']\n",
    "comp['Prediction'] = pd.DataFrame(y_predict_orig)\n",
    "comp['Diference Between Y_test and Prediction'] =   comp['Y_test'] - comp['Prediction']\n",
    "display(comp)\n",
    "comp.describe()"
   ]
  },
  {
   "cell_type": "code",
   "execution_count": 57,
   "id": "01aba6e0",
   "metadata": {
    "execution": {
     "iopub.execute_input": "2022-03-30T18:06:12.259868Z",
     "iopub.status.busy": "2022-03-30T18:06:12.248161Z",
     "iopub.status.idle": "2022-03-30T18:06:12.448075Z",
     "shell.execute_reply": "2022-03-30T18:06:12.447628Z",
     "shell.execute_reply.started": "2022-03-28T17:09:27.770637Z"
    },
    "id": "mD4zYiMzhV7u",
    "outputId": "76c96e0b-02d8-4bc2-e0a9-febd4222cfa4",
    "papermill": {
     "duration": 0.301214,
     "end_time": "2022-03-30T18:06:12.448207",
     "exception": false,
     "start_time": "2022-03-30T18:06:12.146993",
     "status": "completed"
    },
    "tags": []
   },
   "outputs": [
    {
     "data": {
      "text/plain": [
       "Text(0, 0.5, 'True values')"
      ]
     },
     "execution_count": 57,
     "metadata": {},
     "output_type": "execute_result"
    },
    {
     "data": {
      "image/png": "[encoded data removed]",
      "text/plain": [
       "<Figure size 432x288 with 1 Axes>"
      ]
     },
     "metadata": {
      "needs_background": "light"
     },
     "output_type": "display_data"
    }
   ],
   "source": [
    "plt.plot(y_test_orig, y_predict_orig, \"^\", color = 'r')\n",
    "plt.xlabel('Model predictions')\n",
    "plt.ylabel('True values')"
   ]
  },
  {
   "cell_type": "code",
   "execution_count": 58,
   "id": "ee91be46",
   "metadata": {
    "execution": {
     "iopub.execute_input": "2022-03-30T18:06:12.652990Z",
     "iopub.status.busy": "2022-03-30T18:06:12.652317Z",
     "iopub.status.idle": "2022-03-30T18:06:12.655234Z",
     "shell.execute_reply": "2022-03-30T18:06:12.655834Z",
     "shell.execute_reply.started": "2022-03-28T17:09:28.003112Z"
    },
    "id": "07CIHotzhm7k",
    "outputId": "cceb696c-fe06-467c-b700-ebd33dc7d105",
    "papermill": {
     "duration": 0.10776,
     "end_time": "2022-03-30T18:06:12.656011",
     "exception": false,
     "start_time": "2022-03-30T18:06:12.548251",
     "status": "completed"
    },
    "tags": []
   },
   "outputs": [
    {
     "data": {
      "text/plain": [
       "35"
      ]
     },
     "metadata": {},
     "output_type": "display_data"
    }
   ],
   "source": [
    "k = X_test.shape[1]\n",
    "display(k)"
   ]
  },
  {
   "cell_type": "code",
   "execution_count": 59,
   "id": "2b9b12e6",
   "metadata": {
    "execution": {
     "iopub.execute_input": "2022-03-30T18:06:12.858066Z",
     "iopub.status.busy": "2022-03-30T18:06:12.857426Z",
     "iopub.status.idle": "2022-03-30T18:06:12.860629Z",
     "shell.execute_reply": "2022-03-30T18:06:12.861269Z",
     "shell.execute_reply.started": "2022-03-28T17:09:28.011641Z"
    },
    "id": "tf9iK-Puhsfh",
    "outputId": "b524d007-4574-4e9f-df9a-12b49ed52b2c",
    "papermill": {
     "duration": 0.107675,
     "end_time": "2022-03-30T18:06:12.861458",
     "exception": false,
     "start_time": "2022-03-30T18:06:12.753783",
     "status": "completed"
    },
    "tags": []
   },
   "outputs": [
    {
     "data": {
      "text/plain": [
       "147"
      ]
     },
     "metadata": {},
     "output_type": "display_data"
    }
   ],
   "source": [
    "n = len(X_test)\n",
    "display(n)"
   ]
  },
  {
   "cell_type": "code",
   "execution_count": 60,
   "id": "c3ea529d",
   "metadata": {
    "execution": {
     "iopub.execute_input": "2022-03-30T18:06:13.059577Z",
     "iopub.status.busy": "2022-03-30T18:06:13.058826Z",
     "iopub.status.idle": "2022-03-30T18:06:13.062273Z",
     "shell.execute_reply": "2022-03-30T18:06:13.062809Z",
     "shell.execute_reply.started": "2022-03-28T17:09:28.02671Z"
    },
    "id": "c5Dcrfthh47v",
    "papermill": {
     "duration": 0.103974,
     "end_time": "2022-03-30T18:06:13.062993",
     "exception": false,
     "start_time": "2022-03-30T18:06:12.959019",
     "status": "completed"
    },
    "tags": []
   },
   "outputs": [],
   "source": [
    "from sklearn.metrics import r2_score, mean_squared_error, mean_absolute_error\n",
    "from math import sqrt"
   ]
  },
  {
   "cell_type": "code",
   "execution_count": 61,
   "id": "bee1540f",
   "metadata": {
    "execution": {
     "iopub.execute_input": "2022-03-30T18:06:13.264408Z",
     "iopub.status.busy": "2022-03-30T18:06:13.261879Z",
     "iopub.status.idle": "2022-03-30T18:06:13.267463Z",
     "shell.execute_reply": "2022-03-30T18:06:13.267933Z",
     "shell.execute_reply.started": "2022-03-28T17:09:28.034594Z"
    },
    "id": "5IxrgIt_iFs3",
    "papermill": {
     "duration": 0.106757,
     "end_time": "2022-03-30T18:06:13.268100",
     "exception": false,
     "start_time": "2022-03-30T18:06:13.161343",
     "status": "completed"
    },
    "tags": []
   },
   "outputs": [],
   "source": [
    "mae = mean_absolute_error(y_test_orig, y_predict_orig)\n",
    "mse = mean_squared_error(y_test_orig, y_predict_orig)\n",
    "rmse = sqrt(mse)\n",
    "r2 = r2_score(y_test_orig, y_predict_orig)"
   ]
  },
  {
   "cell_type": "code",
   "execution_count": 62,
   "id": "d178d263",
   "metadata": {
    "execution": {
     "iopub.execute_input": "2022-03-30T18:06:13.466368Z",
     "iopub.status.busy": "2022-03-30T18:06:13.465413Z",
     "iopub.status.idle": "2022-03-30T18:06:13.474822Z",
     "shell.execute_reply": "2022-03-30T18:06:13.475258Z",
     "shell.execute_reply.started": "2022-03-28T17:09:28.057151Z"
    },
    "id": "Rm5e9oS4itTc",
    "outputId": "8b0e368c-e0eb-4414-a316-acb71f764872",
    "papermill": {
     "duration": 0.109652,
     "end_time": "2022-03-30T18:06:13.475414",
     "exception": false,
     "start_time": "2022-03-30T18:06:13.365762",
     "status": "completed"
    },
    "tags": []
   },
   "outputs": [
    {
     "data": {
      "text/plain": [
       "'MAE: 627.5797920486553'"
      ]
     },
     "metadata": {},
     "output_type": "display_data"
    },
    {
     "data": {
      "text/plain": [
       "'\\nMSE: 831767.3219941356'"
      ]
     },
     "metadata": {},
     "output_type": "display_data"
    },
    {
     "data": {
      "text/plain": [
       "'\\nRMSE: 912.0127860913659'"
      ]
     },
     "metadata": {},
     "output_type": "display_data"
    },
    {
     "data": {
      "text/plain": [
       "'\\nR2: 0.7841159095794792'"
      ]
     },
     "metadata": {},
     "output_type": "display_data"
    }
   ],
   "source": [
    "display(f\"MAE: {mae}\", f\"\\nMSE: {mse}\", f\"\\nRMSE: {rmse}\", f\"\\nR2: {r2}\")"
   ]
  },
  {
   "cell_type": "markdown",
   "id": "2e5a809f",
   "metadata": {
    "papermill": {
     "duration": 0.100244,
     "end_time": "2022-03-30T18:06:13.676141",
     "exception": false,
     "start_time": "2022-03-30T18:06:13.575897",
     "status": "completed"
    },
    "tags": []
   },
   "source": [
    "Podemos observar que o coeficiente de determinação de nosso modelo foi de 71,69%, isso significa que o modelo explica 71,69% da variância da variável dependente a partir do regressores (variáveis independentes) incluídas no modelo linear. Assim, vemos como uma rede neural pode ser extremamente útil para realizarmos previsões com base em variáveis que estão correlacionadas entre si."
   ]
  }
 ],
 "metadata": {
  "kernelspec": {
   "display_name": "Python 3",
   "language": "python",
   "name": "python3"
  },
  "language_info": {
   "codemirror_mode": {
    "name": "ipython",
    "version": 3
   },
   "file_extension": ".py",
   "mimetype": "text/x-python",
   "name": "python",
   "nbconvert_exporter": "python",
   "pygments_lexer": "ipython3",
   "version": "3.7.12"
  },
  "papermill": {
   "default_parameters": {},
   "duration": 39.701818,
   "end_time": "2022-03-30T18:06:16.542269",
   "environment_variables": {},
   "exception": null,
   "input_path": "__notebook__.ipynb",
   "output_path": "__notebook__.ipynb",
   "parameters": {},
   "start_time": "2022-03-30T18:05:36.840451",
   "version": "2.3.3"
  }
 },
 "nbformat": 4,
 "nbformat_minor": 5
}
